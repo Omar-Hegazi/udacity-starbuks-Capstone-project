{
 "cells": [
  {
   "cell_type": "markdown",
   "metadata": {},
   "source": [
    "# Starbucks Capstone Challenge\n",
    "\n",
    "### Introduction\n",
    "\n",
    "This data set contains simulated data that mimics customer behavior on the Starbucks rewards mobile app. Once every few days, Starbucks sends out an offer to users of the mobile app. An offer can be merely an advertisement for a drink or an actual offer such as a discount or BOGO (buy one get one free). Some users might not receive any offer during certain weeks. \n",
    "\n",
    "Not all users receive the same offer, and that is the challenge to solve with this data set.\n",
    "\n",
    "Your task is to combine transaction, demographic and offer data to determine which demographic groups respond best to which offer type. This data set is a simplified version of the real Starbucks app because the underlying simulator only has one product whereas Starbucks actually sells dozens of products.\n",
    "\n",
    "Every offer has a validity period before the offer expires. As an example, a BOGO offer might be valid for only 5 days. You'll see in the data set that informational offers have a validity period even though these ads are merely providing information about a product; for example, if an informational offer has 7 days of validity, you can assume the customer is feeling the influence of the offer for 7 days after receiving the advertisement.\n",
    "\n",
    "You'll be given transactional data showing user purchases made on the app including the timestamp of purchase and the amount of money spent on a purchase. This transactional data also has a record for each offer that a user receives as well as a record for when a user actually views the offer. There are also records for when a user completes an offer. \n",
    "\n",
    "Keep in mind as well that someone using the app might make a purchase through the app without having received an offer or seen an offer.\n",
    "\n",
    "### Example\n",
    "\n",
    "To give an example, a user could receive a discount offer buy 10 dollars get 2 off on Monday. The offer is valid for 10 days from receipt. If the customer accumulates at least 10 dollars in purchases during the validity period, the customer completes the offer.\n",
    "\n",
    "However, there are a few things to watch out for in this data set. Customers do not opt into the offers that they receive; in other words, a user can receive an offer, never actually view the offer, and still complete the offer. For example, a user might receive the \"buy 10 dollars get 2 dollars off offer\", but the user never opens the offer during the 10 day validity period. The customer spends 15 dollars during those ten days. There will be an offer completion record in the data set; however, the customer was not influenced by the offer because the customer never viewed the offer.\n",
    "\n",
    "### Cleaning\n",
    "\n",
    "This makes data cleaning especially important and tricky.\n",
    "\n",
    "You'll also want to take into account that some demographic groups will make purchases even if they don't receive an offer. From a business perspective, if a customer is going to make a 10 dollar purchase without an offer anyway, you wouldn't want to send a buy 10 dollars get 2 dollars off offer. You'll want to try to assess what a certain demographic group will buy when not receiving any offers.\n",
    "\n",
    "### Final Advice\n",
    "\n",
    "Because this is a capstone project, you are free to analyze the data any way you see fit. For example, you could build a machine learning model that predicts how much someone will spend based on demographics and offer type. Or you could build a model that predicts whether or not someone will respond to an offer. Or, you don't need to build a machine learning model at all. You could develop a set of heuristics that determine what offer you should send to each customer (i.e., 75 percent of women customers who were 35 years old responded to offer A vs 40 percent from the same demographic to offer B, so send offer A)."
   ]
  },
  {
   "cell_type": "markdown",
   "metadata": {},
   "source": [
    "# Data Sets\n",
    "\n",
    "The data is contained in three files:\n",
    "\n",
    "* portfolio.json - containing offer ids and meta data about each offer (duration, type, etc.)\n",
    "* profile.json - demographic data for each customer\n",
    "* transcript.json - records for transactions, offers received, offers viewed, and offers completed\n",
    "\n",
    "Here is the schema and explanation of each variable in the files:\n",
    "\n",
    "**portfolio.json**\n",
    "* id (string) - offer id\n",
    "* offer_type (string) - type of offer ie BOGO, discount, informational\n",
    "* difficulty (int) - minimum required spend to complete an offer\n",
    "* reward (int) - reward given for completing an offer\n",
    "* duration (int) - time for offer to be open, in days\n",
    "* channels (list of strings)\n",
    "\n",
    "**profile.json**\n",
    "* age (int) - age of the customer \n",
    "* became_member_on (int) - date when customer created an app account\n",
    "* gender (str) - gender of the customer (note some entries contain 'O' for other rather than M or F)\n",
    "* id (str) - customer id\n",
    "* income (float) - customer's income\n",
    "\n",
    "**transcript.json**\n",
    "* event (str) - record description (ie transaction, offer received, offer viewed, etc.)\n",
    "* person (str) - customer id\n",
    "* time (int) - time in hours since start of test. The data begins at time t=0\n",
    "* value - (dict of strings) - either an offer id or transaction amount depending on the record\n",
    "\n",
    "**Note:** If you are using the workspace, you will need to go to the terminal and run the command `conda update pandas` before reading in the files. This is because the version of pandas in the workspace cannot read in the transcript.json file correctly, but the newest version of pandas can. You can access the termnal from the orange icon in the top left of this notebook.  \n",
    "\n",
    "You can see how to access the terminal and how the install works using the two images below.  First you need to access the terminal:\n",
    "\n",
    "<img src=\"pic1.png\"/>\n",
    "\n",
    "Then you will want to run the above command:\n",
    "\n",
    "<img src=\"pic2.png\"/>\n",
    "\n",
    "Finally, when you enter back into the notebook (use the jupyter icon again), you should be able to run the below cell without any errors."
   ]
  },
  {
   "cell_type": "markdown",
   "metadata": {},
   "source": [
    "# Data Exploration"
   ]
  },
  {
   "cell_type": "code",
   "execution_count": 1,
   "metadata": {},
   "outputs": [],
   "source": [
    "import pandas as pd\n",
    "import numpy as np\n",
    "import math\n",
    "import json\n",
    "import matplotlib.pyplot as plt\n",
    "import seaborn as sb\n",
    "%matplotlib inline"
   ]
  },
  {
   "cell_type": "code",
   "execution_count": 2,
   "metadata": {},
   "outputs": [],
   "source": [
    "# read in the json files\n",
    "portfolio = pd.read_json('Data/portfolio.json', orient='records', lines=True)\n",
    "profile = pd.read_json('Data/profile.json', orient='records', lines=True)\n",
    "transcript = pd.read_json('Data/transcript.json', orient='records', lines=True)"
   ]
  },
  {
   "cell_type": "markdown",
   "metadata": {},
   "source": [
    "### Exploring transcript"
   ]
  },
  {
   "cell_type": "code",
   "execution_count": 3,
   "metadata": {},
   "outputs": [
    {
     "data": {
      "text/html": [
       "<div>\n",
       "<style scoped>\n",
       "    .dataframe tbody tr th:only-of-type {\n",
       "        vertical-align: middle;\n",
       "    }\n",
       "\n",
       "    .dataframe tbody tr th {\n",
       "        vertical-align: top;\n",
       "    }\n",
       "\n",
       "    .dataframe thead th {\n",
       "        text-align: right;\n",
       "    }\n",
       "</style>\n",
       "<table border=\"1\" class=\"dataframe\">\n",
       "  <thead>\n",
       "    <tr style=\"text-align: right;\">\n",
       "      <th></th>\n",
       "      <th>person</th>\n",
       "      <th>event</th>\n",
       "      <th>value</th>\n",
       "      <th>time</th>\n",
       "    </tr>\n",
       "  </thead>\n",
       "  <tbody>\n",
       "    <tr>\n",
       "      <th>0</th>\n",
       "      <td>78afa995795e4d85b5d9ceeca43f5fef</td>\n",
       "      <td>offer received</td>\n",
       "      <td>{'offer id': '9b98b8c7a33c4b65b9aebfe6a799e6d9'}</td>\n",
       "      <td>0</td>\n",
       "    </tr>\n",
       "    <tr>\n",
       "      <th>1</th>\n",
       "      <td>a03223e636434f42ac4c3df47e8bac43</td>\n",
       "      <td>offer received</td>\n",
       "      <td>{'offer id': '0b1e1539f2cc45b7b9fa7c272da2e1d7'}</td>\n",
       "      <td>0</td>\n",
       "    </tr>\n",
       "    <tr>\n",
       "      <th>2</th>\n",
       "      <td>e2127556f4f64592b11af22de27a7932</td>\n",
       "      <td>offer received</td>\n",
       "      <td>{'offer id': '2906b810c7d4411798c6938adc9daaa5'}</td>\n",
       "      <td>0</td>\n",
       "    </tr>\n",
       "    <tr>\n",
       "      <th>3</th>\n",
       "      <td>8ec6ce2a7e7949b1bf142def7d0e0586</td>\n",
       "      <td>offer received</td>\n",
       "      <td>{'offer id': 'fafdcd668e3743c1bb461111dcafc2a4'}</td>\n",
       "      <td>0</td>\n",
       "    </tr>\n",
       "    <tr>\n",
       "      <th>4</th>\n",
       "      <td>68617ca6246f4fbc85e91a2a49552598</td>\n",
       "      <td>offer received</td>\n",
       "      <td>{'offer id': '4d5c57ea9a6940dd891ad53e9dbe8da0'}</td>\n",
       "      <td>0</td>\n",
       "    </tr>\n",
       "    <tr>\n",
       "      <th>5</th>\n",
       "      <td>389bc3fa690240e798340f5a15918d5c</td>\n",
       "      <td>offer received</td>\n",
       "      <td>{'offer id': 'f19421c1d4aa40978ebb69ca19b0e20d'}</td>\n",
       "      <td>0</td>\n",
       "    </tr>\n",
       "    <tr>\n",
       "      <th>6</th>\n",
       "      <td>c4863c7985cf408faee930f111475da3</td>\n",
       "      <td>offer received</td>\n",
       "      <td>{'offer id': '2298d6c36e964ae4a3e7e9706d1fb8c2'}</td>\n",
       "      <td>0</td>\n",
       "    </tr>\n",
       "    <tr>\n",
       "      <th>7</th>\n",
       "      <td>2eeac8d8feae4a8cad5a6af0499a211d</td>\n",
       "      <td>offer received</td>\n",
       "      <td>{'offer id': '3f207df678b143eea3cee63160fa8bed'}</td>\n",
       "      <td>0</td>\n",
       "    </tr>\n",
       "    <tr>\n",
       "      <th>8</th>\n",
       "      <td>aa4862eba776480b8bb9c68455b8c2e1</td>\n",
       "      <td>offer received</td>\n",
       "      <td>{'offer id': '0b1e1539f2cc45b7b9fa7c272da2e1d7'}</td>\n",
       "      <td>0</td>\n",
       "    </tr>\n",
       "    <tr>\n",
       "      <th>9</th>\n",
       "      <td>31dda685af34476cad5bc968bdb01c53</td>\n",
       "      <td>offer received</td>\n",
       "      <td>{'offer id': '0b1e1539f2cc45b7b9fa7c272da2e1d7'}</td>\n",
       "      <td>0</td>\n",
       "    </tr>\n",
       "  </tbody>\n",
       "</table>\n",
       "</div>"
      ],
      "text/plain": [
       "                             person           event  \\\n",
       "0  78afa995795e4d85b5d9ceeca43f5fef  offer received   \n",
       "1  a03223e636434f42ac4c3df47e8bac43  offer received   \n",
       "2  e2127556f4f64592b11af22de27a7932  offer received   \n",
       "3  8ec6ce2a7e7949b1bf142def7d0e0586  offer received   \n",
       "4  68617ca6246f4fbc85e91a2a49552598  offer received   \n",
       "5  389bc3fa690240e798340f5a15918d5c  offer received   \n",
       "6  c4863c7985cf408faee930f111475da3  offer received   \n",
       "7  2eeac8d8feae4a8cad5a6af0499a211d  offer received   \n",
       "8  aa4862eba776480b8bb9c68455b8c2e1  offer received   \n",
       "9  31dda685af34476cad5bc968bdb01c53  offer received   \n",
       "\n",
       "                                              value  time  \n",
       "0  {'offer id': '9b98b8c7a33c4b65b9aebfe6a799e6d9'}     0  \n",
       "1  {'offer id': '0b1e1539f2cc45b7b9fa7c272da2e1d7'}     0  \n",
       "2  {'offer id': '2906b810c7d4411798c6938adc9daaa5'}     0  \n",
       "3  {'offer id': 'fafdcd668e3743c1bb461111dcafc2a4'}     0  \n",
       "4  {'offer id': '4d5c57ea9a6940dd891ad53e9dbe8da0'}     0  \n",
       "5  {'offer id': 'f19421c1d4aa40978ebb69ca19b0e20d'}     0  \n",
       "6  {'offer id': '2298d6c36e964ae4a3e7e9706d1fb8c2'}     0  \n",
       "7  {'offer id': '3f207df678b143eea3cee63160fa8bed'}     0  \n",
       "8  {'offer id': '0b1e1539f2cc45b7b9fa7c272da2e1d7'}     0  \n",
       "9  {'offer id': '0b1e1539f2cc45b7b9fa7c272da2e1d7'}     0  "
      ]
     },
     "execution_count": 3,
     "metadata": {},
     "output_type": "execute_result"
    }
   ],
   "source": [
    "transcript.head(10)"
   ]
  },
  {
   "cell_type": "code",
   "execution_count": 4,
   "metadata": {},
   "outputs": [
    {
     "name": "stdout",
     "output_type": "stream",
     "text": [
      "<class 'pandas.core.frame.DataFrame'>\n",
      "RangeIndex: 306534 entries, 0 to 306533\n",
      "Data columns (total 4 columns):\n",
      " #   Column  Non-Null Count   Dtype \n",
      "---  ------  --------------   ----- \n",
      " 0   person  306534 non-null  object\n",
      " 1   event   306534 non-null  object\n",
      " 2   value   306534 non-null  object\n",
      " 3   time    306534 non-null  int64 \n",
      "dtypes: int64(1), object(3)\n",
      "memory usage: 9.4+ MB\n"
     ]
    }
   ],
   "source": [
    "transcript.info()"
   ]
  },
  {
   "cell_type": "code",
   "execution_count": 5,
   "metadata": {},
   "outputs": [
    {
     "data": {
      "text/plain": [
       "94de646f7b6041228ca7dec82adb97d2    51\n",
       "8dbfa485249f409aa223a2130f40634a    49\n",
       "d0a80415b84c4df4908b8403b19765e3    48\n",
       "5e60c6aa3b834e44b822ea43a3efea26    48\n",
       "79d9d4f86aca4bed9290350fb43817c2    48\n",
       "                                    ..\n",
       "fccc9279ba56411f80ffe8ce7e0935cd     2\n",
       "e63e42480aae4ede9f07cac49c8c3f78     2\n",
       "afd41b230f924f9ca8f5ed6249616114     2\n",
       "3045af4e98794a04a5542d3eac939b1f     2\n",
       "da7a7c0dcfcb41a8acc7864a53cf60fb     1\n",
       "Name: person, Length: 17000, dtype: int64"
      ]
     },
     "execution_count": 5,
     "metadata": {},
     "output_type": "execute_result"
    }
   ],
   "source": [
    "transcript.person.value_counts()"
   ]
  },
  {
   "cell_type": "code",
   "execution_count": 6,
   "metadata": {},
   "outputs": [
    {
     "data": {
      "text/plain": [
       "{\"{'offer id': '2298d6c36e964ae4a3e7e9706d1fb8c2'}\": 14983,\n",
       " \"{'offer id': 'fafdcd668e3743c1bb461111dcafc2a4'}\": 14924,\n",
       " \"{'offer id': '4d5c57ea9a6940dd891ad53e9dbe8da0'}\": 14891,\n",
       " \"{'offer id': 'f19421c1d4aa40978ebb69ca19b0e20d'}\": 14835,\n",
       " \"{'offer id': 'ae264e3637204a6fb9bb56bc8210ddfd'}\": 14374,\n",
       " \"{'offer id': '5a8bc65990b245e5a138643cd4eb9837'}\": 14305,\n",
       " \"{'offer id': '9b98b8c7a33c4b65b9aebfe6a799e6d9'}\": 11848,\n",
       " \"{'offer id': '3f207df678b143eea3cee63160fa8bed'}\": 11761,\n",
       " \"{'offer id': '2906b810c7d4411798c6938adc9daaa5'}\": 11750,\n",
       " \"{'offer id': '0b1e1539f2cc45b7b9fa7c272da2e1d7'}\": 10331,\n",
       " \"{'offer_id': 'fafdcd668e3743c1bb461111dcafc2a4', 'reward': 2}\": 5317,\n",
       " \"{'offer_id': '2298d6c36e964ae4a3e7e9706d1fb8c2', 'reward': 3}\": 5156,\n",
       " \"{'offer_id': '9b98b8c7a33c4b65b9aebfe6a799e6d9', 'reward': 5}\": 4354,\n",
       " \"{'offer_id': 'f19421c1d4aa40978ebb69ca19b0e20d', 'reward': 5}\": 4296,\n",
       " \"{'offer_id': '2906b810c7d4411798c6938adc9daaa5', 'reward': 2}\": 4017,\n",
       " \"{'offer_id': 'ae264e3637204a6fb9bb56bc8210ddfd', 'reward': 10}\": 3688,\n",
       " \"{'offer_id': '0b1e1539f2cc45b7b9fa7c272da2e1d7', 'reward': 5}\": 3420,\n",
       " \"{'offer_id': '4d5c57ea9a6940dd891ad53e9dbe8da0', 'reward': 10}\": 3331,\n",
       " \"{'amount': 0.05}\": 431,\n",
       " \"{'amount': 0.66}\": 166,\n",
       " \"{'amount': 1.18}\": 165,\n",
       " \"{'amount': 1.01}\": 163,\n",
       " \"{'amount': 1.23}\": 161,\n",
       " \"{'amount': 0.9}\": 161,\n",
       " \"{'amount': 0.5}\": 159,\n",
       " \"{'amount': 0.53}\": 159,\n",
       " \"{'amount': 1.19}\": 159,\n",
       " \"{'amount': 0.79}\": 157,\n",
       " \"{'amount': 1.5}\": 156,\n",
       " \"{'amount': 0.92}\": 156,\n",
       " \"{'amount': 1.54}\": 155,\n",
       " \"{'amount': 1.57}\": 154,\n",
       " \"{'amount': 0.7000000000000001}\": 154,\n",
       " \"{'amount': 0.74}\": 154,\n",
       " \"{'amount': 1.27}\": 153,\n",
       " \"{'amount': 1.22}\": 153,\n",
       " \"{'amount': 0.9400000000000001}\": 152,\n",
       " \"{'amount': 0.84}\": 152,\n",
       " \"{'amount': 1.16}\": 152,\n",
       " \"{'amount': 0.67}\": 152,\n",
       " \"{'amount': 0.65}\": 152,\n",
       " \"{'amount': 1.13}\": 151,\n",
       " \"{'amount': 1.02}\": 150,\n",
       " \"{'amount': 1.32}\": 150,\n",
       " \"{'amount': 0.91}\": 150,\n",
       " \"{'amount': 1.2}\": 150,\n",
       " \"{'amount': 0.86}\": 150,\n",
       " \"{'amount': 0.76}\": 149,\n",
       " \"{'amount': 1.33}\": 149,\n",
       " \"{'amount': 1.65}\": 148,\n",
       " \"{'amount': 1.73}\": 148,\n",
       " \"{'amount': 0.36}\": 148,\n",
       " \"{'amount': 1.48}\": 148,\n",
       " \"{'amount': 0.8200000000000001}\": 148,\n",
       " \"{'amount': 0.87}\": 148,\n",
       " \"{'amount': 1.17}\": 147,\n",
       " \"{'amount': 0.55}\": 147,\n",
       " \"{'amount': 0.59}\": 147,\n",
       " \"{'amount': 1.35}\": 146,\n",
       " \"{'amount': 0.6900000000000001}\": 146,\n",
       " \"{'amount': 0.46}\": 146,\n",
       " \"{'amount': 1.08}\": 145,\n",
       " \"{'amount': 0.75}\": 145,\n",
       " \"{'amount': 1.53}\": 145,\n",
       " \"{'amount': 1.12}\": 145,\n",
       " \"{'amount': 0.64}\": 145,\n",
       " \"{'amount': 1.0}\": 144,\n",
       " \"{'amount': 2.05}\": 144,\n",
       " \"{'amount': 0.6000000000000001}\": 144,\n",
       " \"{'amount': 1.11}\": 143,\n",
       " \"{'amount': 0.93}\": 143,\n",
       " \"{'amount': 0.48}\": 143,\n",
       " \"{'amount': 1.03}\": 143,\n",
       " \"{'amount': 1.6400000000000001}\": 143,\n",
       " \"{'amount': 0.5700000000000001}\": 143,\n",
       " \"{'amount': 0.43}\": 142,\n",
       " \"{'amount': 1.1400000000000001}\": 142,\n",
       " \"{'amount': 1.43}\": 142,\n",
       " \"{'amount': 1.81}\": 142,\n",
       " \"{'amount': 0.68}\": 142,\n",
       " \"{'amount': 0.63}\": 142,\n",
       " \"{'amount': 1.07}\": 142,\n",
       " \"{'amount': 0.51}\": 141,\n",
       " \"{'amount': 1.45}\": 141,\n",
       " \"{'amount': 1.47}\": 141,\n",
       " \"{'amount': 0.78}\": 140,\n",
       " \"{'amount': 1.37}\": 140,\n",
       " \"{'amount': 0.85}\": 140,\n",
       " \"{'amount': 0.99}\": 140,\n",
       " \"{'amount': 0.72}\": 140,\n",
       " \"{'amount': 0.4}\": 140,\n",
       " \"{'amount': 1.6600000000000001}\": 139,\n",
       " \"{'amount': 1.44}\": 139,\n",
       " \"{'amount': 1.77}\": 138,\n",
       " \"{'amount': 0.44}\": 138,\n",
       " \"{'amount': 0.49}\": 138,\n",
       " \"{'amount': 1.8399999999999999}\": 138,\n",
       " \"{'amount': 0.8300000000000001}\": 138,\n",
       " \"{'amount': 1.69}\": 138,\n",
       " \"{'amount': 2.16}\": 138,\n",
       " \"{'amount': 1.3900000000000001}\": 138,\n",
       " \"{'amount': 1.3599999999999999}\": 137,\n",
       " \"{'amount': 1.58}\": 137,\n",
       " \"{'amount': 2.31}\": 137,\n",
       " \"{'amount': 1.6800000000000002}\": 137,\n",
       " \"{'amount': 1.8}\": 136,\n",
       " \"{'amount': 0.52}\": 136,\n",
       " \"{'amount': 2.1}\": 136,\n",
       " \"{'amount': 0.41000000000000003}\": 136,\n",
       " \"{'amount': 0.8}\": 136,\n",
       " \"{'amount': 1.29}\": 134,\n",
       " \"{'amount': 0.56}\": 134,\n",
       " \"{'amount': 0.42}\": 134,\n",
       " \"{'amount': 1.49}\": 134,\n",
       " \"{'amount': 0.88}\": 134,\n",
       " \"{'amount': 1.4}\": 134,\n",
       " \"{'amount': 1.24}\": 133,\n",
       " \"{'amount': 0.47000000000000003}\": 133,\n",
       " \"{'amount': 0.97}\": 133,\n",
       " \"{'amount': 0.81}\": 133,\n",
       " \"{'amount': 1.4100000000000001}\": 132,\n",
       " \"{'amount': 1.56}\": 132,\n",
       " \"{'amount': 1.92}\": 132,\n",
       " \"{'amount': 1.06}\": 132,\n",
       " \"{'amount': 1.42}\": 132,\n",
       " \"{'amount': 0.96}\": 131,\n",
       " \"{'amount': 0.98}\": 131,\n",
       " \"{'amount': 1.09}\": 131,\n",
       " \"{'amount': 1.38}\": 131,\n",
       " \"{'amount': 1.9100000000000001}\": 131,\n",
       " \"{'amount': 0.58}\": 131,\n",
       " \"{'amount': 2.36}\": 130,\n",
       " \"{'amount': 0.89}\": 130,\n",
       " \"{'amount': 0.35000000000000003}\": 130,\n",
       " \"{'amount': 0.77}\": 130,\n",
       " \"{'amount': 1.31}\": 129,\n",
       " \"{'amount': 2.2}\": 129,\n",
       " \"{'amount': 1.6099999999999999}\": 129,\n",
       " \"{'amount': 1.21}\": 129,\n",
       " \"{'amount': 1.28}\": 129,\n",
       " \"{'amount': 0.54}\": 129,\n",
       " \"{'amount': 1.15}\": 128,\n",
       " \"{'amount': 1.26}\": 128,\n",
       " \"{'amount': 2.06}\": 128,\n",
       " \"{'amount': 0.39}\": 128,\n",
       " \"{'amount': 0.73}\": 128,\n",
       " \"{'amount': 0.26}\": 128,\n",
       " \"{'amount': 1.8599999999999999}\": 128,\n",
       " \"{'amount': 0.38}\": 127,\n",
       " \"{'amount': 2.63}\": 127,\n",
       " \"{'amount': 2.32}\": 127,\n",
       " \"{'amount': 2.02}\": 127,\n",
       " \"{'amount': 1.3}\": 127,\n",
       " \"{'amount': 1.51}\": 127,\n",
       " \"{'amount': 1.74}\": 127,\n",
       " \"{'amount': 1.25}\": 127,\n",
       " \"{'amount': 1.5899999999999999}\": 126,\n",
       " \"{'amount': 0.9500000000000001}\": 126,\n",
       " \"{'amount': 0.30000000000000004}\": 126,\n",
       " \"{'amount': 0.37}\": 126,\n",
       " \"{'amount': 1.8900000000000001}\": 126,\n",
       " \"{'amount': 1.04}\": 126,\n",
       " \"{'amount': 1.97}\": 126,\n",
       " \"{'amount': 1.52}\": 126,\n",
       " \"{'amount': 0.61}\": 126,\n",
       " \"{'amount': 1.63}\": 125,\n",
       " \"{'amount': 1.34}\": 125,\n",
       " \"{'amount': 2.19}\": 125,\n",
       " \"{'amount': 2.34}\": 125,\n",
       " \"{'amount': 1.67}\": 125,\n",
       " \"{'amount': 2.39}\": 125,\n",
       " \"{'amount': 2.54}\": 125,\n",
       " \"{'amount': 2.21}\": 125,\n",
       " \"{'amount': 1.9300000000000002}\": 125,\n",
       " \"{'amount': 1.62}\": 124,\n",
       " \"{'amount': 2.12}\": 124,\n",
       " \"{'amount': 2.95}\": 124,\n",
       " \"{'amount': 1.9}\": 124,\n",
       " \"{'amount': 2.18}\": 124,\n",
       " \"{'amount': 1.6}\": 124,\n",
       " \"{'amount': 1.83}\": 124,\n",
       " \"{'amount': 2.15}\": 123,\n",
       " \"{'amount': 1.05}\": 123,\n",
       " \"{'amount': 1.79}\": 123,\n",
       " \"{'amount': 1.88}\": 123,\n",
       " \"{'amount': 0.23}\": 123,\n",
       " \"{'amount': 0.62}\": 123,\n",
       " \"{'amount': 1.71}\": 122,\n",
       " \"{'amount': 2.22}\": 122,\n",
       " \"{'amount': 0.29}\": 122,\n",
       " \"{'amount': 1.87}\": 122,\n",
       " \"{'amount': 2.08}\": 121,\n",
       " \"{'amount': 0.45}\": 121,\n",
       " \"{'amount': 1.75}\": 120,\n",
       " \"{'amount': 0.22}\": 120,\n",
       " \"{'amount': 0.28}\": 120,\n",
       " \"{'amount': 1.96}\": 120,\n",
       " \"{'amount': 2.23}\": 120,\n",
       " \"{'amount': 0.21}\": 119,\n",
       " \"{'amount': 2.03}\": 119,\n",
       " \"{'amount': 1.9500000000000002}\": 119,\n",
       " \"{'amount': 2.17}\": 119,\n",
       " \"{'amount': 1.46}\": 119,\n",
       " \"{'amount': 0.24}\": 118,\n",
       " \"{'amount': 2.49}\": 118,\n",
       " \"{'amount': 2.14}\": 117,\n",
       " \"{'amount': 0.71}\": 117,\n",
       " \"{'amount': 2.09}\": 117,\n",
       " \"{'amount': 0.27}\": 117,\n",
       " \"{'amount': 2.0}\": 116,\n",
       " \"{'amount': 2.79}\": 116,\n",
       " \"{'amount': 1.85}\": 116,\n",
       " \"{'amount': 2.93}\": 116,\n",
       " \"{'amount': 0.31}\": 116,\n",
       " \"{'amount': 2.07}\": 116,\n",
       " \"{'amount': 2.24}\": 115,\n",
       " \"{'amount': 3.04}\": 115,\n",
       " \"{'amount': 1.72}\": 115,\n",
       " \"{'amount': 1.99}\": 114,\n",
       " \"{'amount': 1.1}\": 114,\n",
       " \"{'amount': 0.17}\": 113,\n",
       " \"{'amount': 2.64}\": 113,\n",
       " \"{'amount': 2.27}\": 113,\n",
       " \"{'amount': 2.55}\": 113,\n",
       " \"{'amount': 2.01}\": 113,\n",
       " \"{'amount': 1.78}\": 112,\n",
       " \"{'amount': 1.76}\": 112,\n",
       " \"{'amount': 2.59}\": 112,\n",
       " \"{'amount': 2.25}\": 112,\n",
       " \"{'amount': 2.2800000000000002}\": 112,\n",
       " \"{'amount': 2.44}\": 112,\n",
       " \"{'amount': 0.33}\": 112,\n",
       " \"{'amount': 2.7199999999999998}\": 112,\n",
       " \"{'amount': 1.94}\": 111,\n",
       " \"{'amount': 0.32}\": 111,\n",
       " \"{'amount': 2.58}\": 111,\n",
       " \"{'amount': 2.7}\": 110,\n",
       " \"{'amount': 0.14}\": 110,\n",
       " \"{'amount': 0.15}\": 110,\n",
       " \"{'amount': 2.45}\": 109,\n",
       " \"{'amount': 2.65}\": 109,\n",
       " \"{'amount': 2.43}\": 109,\n",
       " \"{'amount': 0.06}\": 109,\n",
       " \"{'amount': 0.19}\": 109,\n",
       " \"{'amount': 0.18}\": 108,\n",
       " \"{'amount': 0.16}\": 108,\n",
       " \"{'amount': 2.68}\": 108,\n",
       " \"{'amount': 1.7000000000000002}\": 108,\n",
       " \"{'amount': 2.98}\": 108,\n",
       " \"{'amount': 2.35}\": 108,\n",
       " \"{'amount': 2.9699999999999998}\": 108,\n",
       " \"{'amount': 2.56}\": 108,\n",
       " \"{'amount': 2.62}\": 107,\n",
       " \"{'amount': 3.18}\": 107,\n",
       " \"{'amount': 2.46}\": 107,\n",
       " \"{'amount': 3.39}\": 106,\n",
       " \"{'amount': 2.33}\": 106,\n",
       " \"{'amount': 1.98}\": 106,\n",
       " \"{'amount': 1.82}\": 106,\n",
       " \"{'amount': 2.87}\": 106,\n",
       " \"{'amount': 2.51}\": 106,\n",
       " \"{'amount': 0.2}\": 105,\n",
       " \"{'amount': 2.26}\": 104,\n",
       " \"{'amount': 2.3}\": 104,\n",
       " \"{'amount': 2.04}\": 104,\n",
       " \"{'amount': 3.22}\": 104,\n",
       " \"{'amount': 2.5700000000000003}\": 104,\n",
       " \"{'amount': 2.7800000000000002}\": 104,\n",
       " \"{'amount': 2.88}\": 104,\n",
       " \"{'amount': 2.37}\": 103,\n",
       " \"{'amount': 2.9}\": 103,\n",
       " \"{'amount': 2.8}\": 103,\n",
       " \"{'amount': 2.42}\": 103,\n",
       " \"{'amount': 2.86}\": 102,\n",
       " \"{'amount': 3.94}\": 102,\n",
       " \"{'amount': 2.38}\": 102,\n",
       " \"{'amount': 3.09}\": 102,\n",
       " \"{'amount': 2.8200000000000003}\": 101,\n",
       " \"{'amount': 2.5300000000000002}\": 101,\n",
       " \"{'amount': 3.35}\": 100,\n",
       " \"{'amount': 0.08}\": 100,\n",
       " \"{'amount': 3.24}\": 100,\n",
       " \"{'amount': 3.13}\": 100,\n",
       " \"{'amount': 3.42}\": 100,\n",
       " \"{'amount': 2.13}\": 100,\n",
       " \"{'amount': 3.29}\": 100,\n",
       " \"{'amount': 2.52}\": 99,\n",
       " \"{'amount': 3.34}\": 99,\n",
       " \"{'amount': 0.11}\": 99,\n",
       " \"{'amount': 3.03}\": 99,\n",
       " \"{'amount': 2.77}\": 99,\n",
       " \"{'amount': 2.47}\": 99,\n",
       " \"{'amount': 1.55}\": 99,\n",
       " \"{'amount': 2.74}\": 99,\n",
       " \"{'amount': 2.96}\": 99,\n",
       " \"{'amount': 3.32}\": 99,\n",
       " \"{'amount': 2.84}\": 98,\n",
       " \"{'amount': 2.83}\": 98,\n",
       " \"{'amount': 3.07}\": 98,\n",
       " \"{'amount': 0.34}\": 98,\n",
       " \"{'amount': 3.33}\": 97,\n",
       " \"{'amount': 0.13}\": 97,\n",
       " \"{'amount': 2.85}\": 97,\n",
       " \"{'amount': 3.01}\": 97,\n",
       " \"{'amount': 3.38}\": 97,\n",
       " \"{'amount': 3.16}\": 97,\n",
       " \"{'amount': 2.6}\": 97,\n",
       " \"{'amount': 0.25}\": 96,\n",
       " \"{'amount': 2.11}\": 96,\n",
       " \"{'amount': 3.05}\": 96,\n",
       " \"{'amount': 2.75}\": 96,\n",
       " \"{'amount': 2.4}\": 96,\n",
       " \"{'amount': 2.89}\": 96,\n",
       " \"{'amount': 2.41}\": 96,\n",
       " \"{'amount': 0.1}\": 95,\n",
       " \"{'amount': 4.16}\": 95,\n",
       " \"{'amount': 2.92}\": 95,\n",
       " \"{'amount': 3.2}\": 95,\n",
       " \"{'amount': 3.69}\": 95,\n",
       " \"{'amount': 2.91}\": 94,\n",
       " \"{'amount': 3.79}\": 94,\n",
       " \"{'amount': 3.81}\": 94,\n",
       " \"{'amount': 2.73}\": 94,\n",
       " \"{'amount': 3.52}\": 94,\n",
       " \"{'amount': 2.48}\": 94,\n",
       " \"{'amount': 2.29}\": 94,\n",
       " \"{'amount': 2.81}\": 93,\n",
       " \"{'amount': 3.88}\": 93,\n",
       " \"{'amount': 3.2800000000000002}\": 93,\n",
       " \"{'amount': 3.15}\": 93,\n",
       " \"{'amount': 3.17}\": 92,\n",
       " \"{'amount': 2.61}\": 92,\n",
       " \"{'amount': 3.02}\": 92,\n",
       " \"{'amount': 3.58}\": 92,\n",
       " \"{'amount': 2.66}\": 91,\n",
       " \"{'amount': 3.55}\": 91,\n",
       " \"{'amount': 4.04}\": 91,\n",
       " \"{'amount': 2.67}\": 90,\n",
       " \"{'amount': 3.36}\": 90,\n",
       " \"{'amount': 3.21}\": 90,\n",
       " \"{'amount': 3.08}\": 89,\n",
       " \"{'amount': 3.77}\": 89,\n",
       " \"{'amount': 2.71}\": 89,\n",
       " \"{'amount': 0.07}\": 89,\n",
       " \"{'amount': 3.76}\": 89,\n",
       " \"{'amount': 3.46}\": 88,\n",
       " \"{'amount': 2.5}\": 88,\n",
       " \"{'amount': 3.11}\": 88,\n",
       " \"{'amount': 3.5300000000000002}\": 88,\n",
       " \"{'amount': 3.06}\": 87,\n",
       " \"{'amount': 2.69}\": 87,\n",
       " \"{'amount': 0.09}\": 87,\n",
       " \"{'amount': 3.67}\": 87,\n",
       " \"{'amount': 3.25}\": 87,\n",
       " \"{'amount': 3.51}\": 87,\n",
       " \"{'amount': 3.93}\": 87,\n",
       " \"{'amount': 3.83}\": 86,\n",
       " \"{'amount': 3.61}\": 86,\n",
       " \"{'amount': 3.37}\": 85,\n",
       " \"{'amount': 3.19}\": 85,\n",
       " \"{'amount': 3.12}\": 85,\n",
       " \"{'amount': 3.47}\": 85,\n",
       " \"{'amount': 3.66}\": 85,\n",
       " \"{'amount': 3.43}\": 84,\n",
       " \"{'amount': 3.0}\": 83,\n",
       " \"{'amount': 3.14}\": 83,\n",
       " \"{'amount': 3.7800000000000002}\": 83,\n",
       " \"{'amount': 3.41}\": 83,\n",
       " \"{'amount': 4.06}\": 83,\n",
       " \"{'amount': 4.68}\": 83,\n",
       " \"{'amount': 3.62}\": 83,\n",
       " \"{'amount': 3.64}\": 82,\n",
       " \"{'amount': 2.94}\": 82,\n",
       " \"{'amount': 3.54}\": 82,\n",
       " \"{'amount': 3.68}\": 82,\n",
       " \"{'amount': 3.9699999999999998}\": 82,\n",
       " \"{'amount': 3.31}\": 82,\n",
       " \"{'amount': 3.89}\": 81,\n",
       " \"{'amount': 2.76}\": 81,\n",
       " \"{'amount': 3.98}\": 81,\n",
       " \"{'amount': 3.27}\": 81,\n",
       " \"{'amount': 3.3}\": 81,\n",
       " \"{'amount': 3.5}\": 81,\n",
       " \"{'amount': 3.45}\": 80,\n",
       " \"{'amount': 3.7}\": 80,\n",
       " \"{'amount': 4.2}\": 80,\n",
       " \"{'amount': 3.92}\": 79,\n",
       " \"{'amount': 3.86}\": 79,\n",
       " \"{'amount': 3.73}\": 79,\n",
       " \"{'amount': 4.49}\": 79,\n",
       " \"{'amount': 4.27}\": 79,\n",
       " \"{'amount': 3.1}\": 79,\n",
       " \"{'amount': 3.74}\": 79,\n",
       " \"{'amount': 0.12}\": 79,\n",
       " \"{'amount': 3.59}\": 78,\n",
       " \"{'amount': 4.07}\": 78,\n",
       " \"{'amount': 3.6}\": 78,\n",
       " \"{'amount': 4.59}\": 78,\n",
       " \"{'amount': 4.13}\": 78,\n",
       " \"{'amount': 3.48}\": 78,\n",
       " \"{'amount': 4.44}\": 77,\n",
       " \"{'amount': 3.9}\": 77,\n",
       " \"{'amount': 4.01}\": 77,\n",
       " \"{'amount': 4.0}\": 76,\n",
       " \"{'amount': 3.23}\": 76,\n",
       " \"{'amount': 4.95}\": 76,\n",
       " \"{'amount': 3.49}\": 76,\n",
       " \"{'amount': 3.7199999999999998}\": 75,\n",
       " \"{'amount': 4.33}\": 75,\n",
       " \"{'amount': 3.95}\": 75,\n",
       " \"{'amount': 3.4}\": 75,\n",
       " \"{'amount': 3.56}\": 75,\n",
       " \"{'amount': 4.64}\": 74,\n",
       " \"{'amount': 3.8}\": 74,\n",
       " \"{'amount': 4.14}\": 74,\n",
       " \"{'amount': 3.65}\": 74,\n",
       " \"{'amount': 2.99}\": 74,\n",
       " \"{'amount': 4.15}\": 73,\n",
       " \"{'amount': 4.03}\": 73,\n",
       " \"{'amount': 4.11}\": 73,\n",
       " \"{'amount': 4.8100000000000005}\": 73,\n",
       " \"{'amount': 3.91}\": 73,\n",
       " \"{'amount': 4.41}\": 73,\n",
       " \"{'amount': 3.96}\": 73,\n",
       " \"{'amount': 3.63}\": 73,\n",
       " \"{'amount': 3.44}\": 72,\n",
       " \"{'amount': 3.75}\": 72,\n",
       " \"{'amount': 4.65}\": 72,\n",
       " \"{'amount': 4.62}\": 72,\n",
       " \"{'amount': 4.94}\": 71,\n",
       " \"{'amount': 5.38}\": 71,\n",
       " \"{'amount': 3.99}\": 71,\n",
       " \"{'amount': 4.57}\": 71,\n",
       " \"{'amount': 4.02}\": 71,\n",
       " \"{'amount': 4.12}\": 70,\n",
       " \"{'amount': 4.51}\": 70,\n",
       " \"{'amount': 4.55}\": 70,\n",
       " \"{'amount': 4.89}\": 70,\n",
       " \"{'amount': 4.43}\": 70,\n",
       " \"{'amount': 4.88}\": 70,\n",
       " \"{'amount': 4.45}\": 69,\n",
       " \"{'amount': 4.6}\": 69,\n",
       " \"{'amount': 4.37}\": 69,\n",
       " \"{'amount': 3.84}\": 69,\n",
       " \"{'amount': 3.5700000000000003}\": 69,\n",
       " \"{'amount': 3.87}\": 69,\n",
       " \"{'amount': 4.42}\": 69,\n",
       " \"{'amount': 4.1}\": 69,\n",
       " \"{'amount': 4.17}\": 69,\n",
       " \"{'amount': 4.32}\": 69,\n",
       " \"{'amount': 3.85}\": 68,\n",
       " \"{'amount': 4.08}\": 68,\n",
       " \"{'amount': 4.61}\": 68,\n",
       " \"{'amount': 5.14}\": 68,\n",
       " \"{'amount': 4.05}\": 68,\n",
       " \"{'amount': 4.75}\": 68,\n",
       " \"{'amount': 4.39}\": 68,\n",
       " \"{'amount': 4.26}\": 68,\n",
       " \"{'amount': 4.77}\": 68,\n",
       " \"{'amount': 4.78}\": 67,\n",
       " \"{'amount': 4.91}\": 67,\n",
       " \"{'amount': 3.26}\": 67,\n",
       " \"{'amount': 4.48}\": 67,\n",
       " \"{'amount': 4.23}\": 67,\n",
       " \"{'amount': 4.5}\": 67,\n",
       " \"{'amount': 4.18}\": 66,\n",
       " \"{'amount': 4.63}\": 66,\n",
       " \"{'amount': 4.86}\": 66,\n",
       " \"{'amount': 4.53}\": 66,\n",
       " \"{'amount': 4.38}\": 66,\n",
       " \"{'amount': 5.29}\": 66,\n",
       " \"{'amount': 4.8}\": 65,\n",
       " \"{'amount': 5.07}\": 65,\n",
       " \"{'amount': 4.09}\": 65,\n",
       " \"{'amount': 4.5600000000000005}\": 64,\n",
       " \"{'amount': 5.84}\": 64,\n",
       " \"{'amount': 5.21}\": 64,\n",
       " \"{'amount': 3.8200000000000003}\": 64,\n",
       " \"{'amount': 4.66}\": 64,\n",
       " \"{'amount': 4.4}\": 64,\n",
       " \"{'amount': 5.06}\": 64,\n",
       " \"{'amount': 4.72}\": 64,\n",
       " \"{'amount': 4.73}\": 64,\n",
       " \"{'amount': 4.29}\": 63,\n",
       " \"{'amount': 5.48}\": 63,\n",
       " \"{'amount': 4.83}\": 63,\n",
       " \"{'amount': 6.97}\": 62,\n",
       " \"{'amount': 5.17}\": 62,\n",
       " \"{'amount': 4.31}\": 62,\n",
       " \"{'amount': 7.58}\": 62,\n",
       " \"{'amount': 5.04}\": 62,\n",
       " \"{'amount': 4.69}\": 62,\n",
       " \"{'amount': 5.11}\": 62,\n",
       " \"{'amount': 5.15}\": 62,\n",
       " \"{'amount': 4.52}\": 62,\n",
       " \"{'amount': 5.94}\": 62,\n",
       " \"{'amount': 4.97}\": 61,\n",
       " \"{'amount': 7.36}\": 61,\n",
       " \"{'amount': 5.01}\": 61,\n",
       " \"{'amount': 4.22}\": 61,\n",
       " \"{'amount': 5.68}\": 61,\n",
       " \"{'amount': 6.11}\": 61,\n",
       " \"{'amount': 3.71}\": 61,\n",
       " \"{'amount': 5.33}\": 61,\n",
       " \"{'amount': 4.96}\": 60,\n",
       " \"{'amount': 4.21}\": 60,\n",
       " \"{'amount': 5.58}\": 60,\n",
       " \"{'amount': 5.13}\": 60,\n",
       " \"{'amount': 6.03}\": 60,\n",
       " \"{'amount': 5.1}\": 60,\n",
       " \"{'amount': 6.31}\": 60,\n",
       " \"{'amount': 4.93}\": 59,\n",
       " \"{'amount': 4.47}\": 59,\n",
       " \"{'amount': 4.28}\": 59,\n",
       " \"{'amount': 4.58}\": 59,\n",
       " \"{'amount': 5.45}\": 59,\n",
       " \"{'amount': 4.67}\": 59,\n",
       " \"{'amount': 6.24}\": 59,\n",
       " \"{'amount': 5.18}\": 59,\n",
       " \"{'amount': 6.02}\": 58,\n",
       " \"{'amount': 5.44}\": 58,\n",
       " \"{'amount': 7.91}\": 58,\n",
       " \"{'amount': 5.05}\": 58,\n",
       " \"{'amount': 4.87}\": 58,\n",
       " \"{'amount': 10.2}\": 58,\n",
       " \"{'amount': 4.9}\": 58,\n",
       " \"{'amount': 5.54}\": 58,\n",
       " \"{'amount': 6.05}\": 58,\n",
       " \"{'amount': 5.7}\": 57,\n",
       " \"{'amount': 5.09}\": 57,\n",
       " \"{'amount': 4.82}\": 57,\n",
       " \"{'amount': 5.36}\": 57,\n",
       " \"{'amount': 4.98}\": 57,\n",
       " \"{'amount': 5.9}\": 57,\n",
       " \"{'amount': 4.79}\": 57,\n",
       " \"{'amount': 4.54}\": 57,\n",
       " \"{'amount': 4.74}\": 57,\n",
       " \"{'amount': 7.41}\": 57,\n",
       " \"{'amount': 4.34}\": 57,\n",
       " \"{'amount': 15.22}\": 56,\n",
       " \"{'amount': 13.49}\": 56,\n",
       " \"{'amount': 5.78}\": 56,\n",
       " \"{'amount': 5.28}\": 56,\n",
       " \"{'amount': 5.37}\": 56,\n",
       " \"{'amount': 4.19}\": 56,\n",
       " \"{'amount': 6.25}\": 56,\n",
       " \"{'amount': 5.0}\": 56,\n",
       " \"{'amount': 5.98}\": 56,\n",
       " \"{'amount': 5.24}\": 56,\n",
       " \"{'amount': 5.64}\": 55,\n",
       " \"{'amount': 4.35}\": 55,\n",
       " \"{'amount': 4.46}\": 55,\n",
       " \"{'amount': 10.54}\": 55,\n",
       " \"{'amount': 5.19}\": 55,\n",
       " \"{'amount': 16.92}\": 55,\n",
       " \"{'amount': 7.08}\": 55,\n",
       " \"{'amount': 13.63}\": 55,\n",
       " \"{'amount': 5.53}\": 55,\n",
       " \"{'amount': 7.05}\": 55,\n",
       " \"{'amount': 13.42}\": 55,\n",
       " \"{'amount': 6.21}\": 55,\n",
       " \"{'amount': 5.35}\": 54,\n",
       " \"{'amount': 5.62}\": 54,\n",
       " \"{'amount': 4.36}\": 54,\n",
       " \"{'amount': 13.61}\": 54,\n",
       " \"{'amount': 12.87}\": 54,\n",
       " \"{'amount': 5.85}\": 54,\n",
       " \"{'amount': 5.31}\": 54,\n",
       " \"{'amount': 6.84}\": 54,\n",
       " \"{'amount': 7.83}\": 54,\n",
       " \"{'amount': 4.24}\": 54,\n",
       " \"{'amount': 4.76}\": 54,\n",
       " \"{'amount': 5.49}\": 54,\n",
       " \"{'amount': 5.96}\": 54,\n",
       " \"{'amount': 11.69}\": 54,\n",
       " \"{'amount': 6.5600000000000005}\": 54,\n",
       " \"{'amount': 5.99}\": 54,\n",
       " \"{'amount': 10.3}\": 54,\n",
       " \"{'amount': 5.59}\": 54,\n",
       " \"{'amount': 6.6}\": 54,\n",
       " \"{'amount': 7.48}\": 54,\n",
       " \"{'amount': 5.63}\": 54,\n",
       " \"{'amount': 12.09}\": 53,\n",
       " \"{'amount': 5.55}\": 53,\n",
       " \"{'amount': 7.7}\": 53,\n",
       " \"{'amount': 5.26}\": 53,\n",
       " \"{'amount': 8.47}\": 53,\n",
       " \"{'amount': 5.02}\": 53,\n",
       " \"{'amount': 9.3}\": 53,\n",
       " \"{'amount': 6.4}\": 53,\n",
       " \"{'amount': 4.92}\": 53,\n",
       " \"{'amount': 9.8}\": 53,\n",
       " \"{'amount': 9.01}\": 53,\n",
       " \"{'amount': 5.87}\": 53,\n",
       " \"{'amount': 5.25}\": 53,\n",
       " \"{'amount': 5.32}\": 53,\n",
       " \"{'amount': 5.52}\": 53,\n",
       " \"{'amount': 6.51}\": 52,\n",
       " \"{'amount': 5.93}\": 52,\n",
       " \"{'amount': 6.1}\": 52,\n",
       " \"{'amount': 16.36}\": 52,\n",
       " \"{'amount': 6.45}\": 52,\n",
       " \"{'amount': 11.08}\": 52,\n",
       " \"{'amount': 7.88}\": 52,\n",
       " \"{'amount': 12.29}\": 52,\n",
       " \"{'amount': 16.93}\": 52,\n",
       " \"{'amount': 16.57}\": 52,\n",
       " \"{'amount': 6.52}\": 52,\n",
       " \"{'amount': 4.25}\": 52,\n",
       " \"{'amount': 11.2}\": 52,\n",
       " \"{'amount': 14.07}\": 52,\n",
       " \"{'amount': 13.54}\": 52,\n",
       " \"{'amount': 5.79}\": 52,\n",
       " \"{'amount': 11.44}\": 51,\n",
       " \"{'amount': 7.09}\": 51,\n",
       " \"{'amount': 12.5}\": 51,\n",
       " \"{'amount': 5.34}\": 51,\n",
       " \"{'amount': 6.47}\": 51,\n",
       " \"{'amount': 5.5600000000000005}\": 51,\n",
       " \"{'amount': 5.66}\": 51,\n",
       " \"{'amount': 6.95}\": 51,\n",
       " \"{'amount': 5.23}\": 51,\n",
       " \"{'amount': 12.26}\": 51,\n",
       " \"{'amount': 6.37}\": 51,\n",
       " \"{'amount': 12.25}\": 51,\n",
       " \"{'amount': 6.7}\": 51,\n",
       " \"{'amount': 9.4}\": 51,\n",
       " \"{'amount': 14.03}\": 51,\n",
       " \"{'amount': 5.4}\": 51,\n",
       " \"{'amount': 5.2}\": 51,\n",
       " \"{'amount': 9.24}\": 50,\n",
       " \"{'amount': 15.86}\": 50,\n",
       " \"{'amount': 12.98}\": 50,\n",
       " \"{'amount': 6.44}\": 50,\n",
       " \"{'amount': 8.8}\": 50,\n",
       " \"{'amount': 9.02}\": 50,\n",
       " \"{'amount': 5.46}\": 50,\n",
       " \"{'amount': 13.89}\": 50,\n",
       " \"{'amount': 6.77}\": 50,\n",
       " \"{'amount': 6.79}\": 50,\n",
       " \"{'amount': 13.05}\": 50,\n",
       " \"{'amount': 5.41}\": 50,\n",
       " \"{'amount': 10.64}\": 50,\n",
       " \"{'amount': 12.57}\": 50,\n",
       " \"{'amount': 6.17}\": 50,\n",
       " \"{'amount': 7.01}\": 50,\n",
       " \"{'amount': 5.03}\": 50,\n",
       " \"{'amount': 12.53}\": 50,\n",
       " \"{'amount': 5.51}\": 50,\n",
       " \"{'amount': 5.77}\": 50,\n",
       " \"{'amount': 8.21}\": 50,\n",
       " \"{'amount': 5.47}\": 50,\n",
       " \"{'amount': 5.16}\": 50,\n",
       " \"{'amount': 9.43}\": 50,\n",
       " \"{'amount': 14.11}\": 50,\n",
       " \"{'amount': 4.84}\": 50,\n",
       " \"{'amount': 5.8}\": 50,\n",
       " \"{'amount': 16.88}\": 50,\n",
       " \"{'amount': 7.66}\": 50,\n",
       " \"{'amount': 9.76}\": 50,\n",
       " \"{'amount': 5.71}\": 50,\n",
       " \"{'amount': 11.68}\": 49,\n",
       " \"{'amount': 8.32}\": 49,\n",
       " \"{'amount': 5.82}\": 49,\n",
       " \"{'amount': 15.51}\": 49,\n",
       " \"{'amount': 5.83}\": 49,\n",
       " \"{'amount': 12.37}\": 49,\n",
       " \"{'amount': 7.86}\": 49,\n",
       " \"{'amount': 10.39}\": 49,\n",
       " \"{'amount': 5.72}\": 49,\n",
       " \"{'amount': 13.92}\": 49,\n",
       " \"{'amount': 13.37}\": 49,\n",
       " \"{'amount': 14.04}\": 49,\n",
       " \"{'amount': 8.57}\": 49,\n",
       " \"{'amount': 13.96}\": 49,\n",
       " \"{'amount': 13.3}\": 49,\n",
       " \"{'amount': 13.46}\": 49,\n",
       " \"{'amount': 14.93}\": 49,\n",
       " \"{'amount': 14.88}\": 49,\n",
       " \"{'amount': 6.13}\": 49,\n",
       " \"{'amount': 16.9}\": 49,\n",
       " \"{'amount': 8.78}\": 49,\n",
       " \"{'amount': 6.88}\": 49,\n",
       " \"{'amount': 16.28}\": 49,\n",
       " \"{'amount': 6.98}\": 49,\n",
       " \"{'amount': 5.88}\": 49,\n",
       " \"{'amount': 14.54}\": 49,\n",
       " \"{'amount': 8.71}\": 48,\n",
       " \"{'amount': 6.73}\": 48,\n",
       " \"{'amount': 8.45}\": 48,\n",
       " \"{'amount': 6.01}\": 48,\n",
       " \"{'amount': 7.35}\": 48,\n",
       " \"{'amount': 10.01}\": 48,\n",
       " \"{'amount': 8.42}\": 48,\n",
       " \"{'amount': 7.0}\": 48,\n",
       " \"{'amount': 16.85}\": 48,\n",
       " \"{'amount': 6.48}\": 48,\n",
       " \"{'amount': 12.41}\": 48,\n",
       " \"{'amount': 12.22}\": 48,\n",
       " \"{'amount': 9.21}\": 48,\n",
       " \"{'amount': 4.99}\": 48,\n",
       " \"{'amount': 11.47}\": 48,\n",
       " \"{'amount': 9.7}\": 48,\n",
       " \"{'amount': 8.27}\": 48,\n",
       " \"{'amount': 6.78}\": 48,\n",
       " \"{'amount': 6.34}\": 48,\n",
       " \"{'amount': 16.8}\": 48,\n",
       " \"{'amount': 6.53}\": 48,\n",
       " \"{'amount': 6.26}\": 48,\n",
       " \"{'amount': 4.7}\": 48,\n",
       " \"{'amount': 6.22}\": 47,\n",
       " \"{'amount': 6.07}\": 47,\n",
       " \"{'amount': 11.36}\": 47,\n",
       " \"{'amount': 16.13}\": 47,\n",
       " \"{'amount': 13.25}\": 47,\n",
       " \"{'amount': 8.67}\": 47,\n",
       " \"{'amount': 4.85}\": 47,\n",
       " \"{'amount': 15.85}\": 47,\n",
       " \"{'amount': 7.21}\": 47,\n",
       " \"{'amount': 7.1}\": 47,\n",
       " \"{'amount': 11.17}\": 47,\n",
       " \"{'amount': 14.73}\": 47,\n",
       " \"{'amount': 14.76}\": 47,\n",
       " \"{'amount': 7.46}\": 47,\n",
       " \"{'amount': 8.19}\": 47,\n",
       " \"{'amount': 6.08}\": 47,\n",
       " \"{'amount': 10.33}\": 47,\n",
       " \"{'amount': 9.73}\": 47,\n",
       " \"{'amount': 16.04}\": 47,\n",
       " \"{'amount': 5.12}\": 47,\n",
       " \"{'amount': 8.9}\": 47,\n",
       " \"{'amount': 5.73}\": 47,\n",
       " \"{'amount': 6.38}\": 47,\n",
       " \"{'amount': 7.8100000000000005}\": 47,\n",
       " \"{'amount': 12.48}\": 47,\n",
       " \"{'amount': 7.06}\": 47,\n",
       " \"{'amount': 8.11}\": 47,\n",
       " \"{'amount': 16.4}\": 46,\n",
       " \"{'amount': 14.79}\": 46,\n",
       " \"{'amount': 5.61}\": 46,\n",
       " \"{'amount': 14.91}\": 46,\n",
       " \"{'amount': 6.14}\": 46,\n",
       " \"{'amount': 13.6}\": 46,\n",
       " \"{'amount': 5.65}\": 46,\n",
       " \"{'amount': 6.86}\": 46,\n",
       " \"{'amount': 7.45}\": 46,\n",
       " \"{'amount': 6.12}\": 46,\n",
       " \"{'amount': 5.22}\": 46,\n",
       " \"{'amount': 10.57}\": 46,\n",
       " \"{'amount': 7.23}\": 46,\n",
       " \"{'amount': 16.42}\": 46,\n",
       " \"{'amount': 18.33}\": 46,\n",
       " \"{'amount': 15.43}\": 46,\n",
       " \"{'amount': 14.71}\": 46,\n",
       " \"{'amount': 10.44}\": 46,\n",
       " \"{'amount': 16.2}\": 46,\n",
       " \"{'amount': 7.72}\": 46,\n",
       " \"{'amount': 19.28}\": 46,\n",
       " \"{'amount': 16.16}\": 46,\n",
       " \"{'amount': 11.13}\": 46,\n",
       " \"{'amount': 6.82}\": 46,\n",
       " \"{'amount': 15.11}\": 46,\n",
       " \"{'amount': 8.75}\": 46,\n",
       " \"{'amount': 6.65}\": 46,\n",
       " \"{'amount': 13.31}\": 46,\n",
       " \"{'amount': 4.3}\": 46,\n",
       " \"{'amount': 7.15}\": 46,\n",
       " \"{'amount': 12.88}\": 46,\n",
       " \"{'amount': 9.71}\": 46,\n",
       " \"{'amount': 12.95}\": 46,\n",
       " \"{'amount': 7.34}\": 46,\n",
       " \"{'amount': 18.25}\": 46,\n",
       " \"{'amount': 8.79}\": 46,\n",
       " \"{'amount': 12.05}\": 46,\n",
       " \"{'amount': 19.24}\": 46,\n",
       " \"{'amount': 12.36}\": 46,\n",
       " \"{'amount': 10.29}\": 46,\n",
       " \"{'amount': 5.27}\": 46,\n",
       " \"{'amount': 9.61}\": 46,\n",
       " \"{'amount': 6.0}\": 45,\n",
       " \"{'amount': 16.44}\": 45,\n",
       " \"{'amount': 6.89}\": 45,\n",
       " \"{'amount': 12.02}\": 45,\n",
       " \"{'amount': 6.36}\": 45,\n",
       " \"{'amount': 7.64}\": 45,\n",
       " \"{'amount': 8.04}\": 45,\n",
       " \"{'amount': 13.78}\": 45,\n",
       " \"{'amount': 12.75}\": 45,\n",
       " \"{'amount': 15.28}\": 45,\n",
       " \"{'amount': 12.34}\": 45,\n",
       " \"{'amount': 15.03}\": 45,\n",
       " \"{'amount': 12.96}\": 45,\n",
       " \"{'amount': 9.89}\": 45,\n",
       " \"{'amount': 10.27}\": 45,\n",
       " \"{'amount': 11.88}\": 45,\n",
       " \"{'amount': 19.44}\": 45,\n",
       " \"{'amount': 17.39}\": 45,\n",
       " \"{'amount': 10.58}\": 45,\n",
       " \"{'amount': 6.93}\": 45,\n",
       " \"{'amount': 6.18}\": 45,\n",
       " \"{'amount': 6.75}\": 45,\n",
       " \"{'amount': 6.54}\": 45,\n",
       " \"{'amount': 7.03}\": 45,\n",
       " \"{'amount': 6.43}\": 45,\n",
       " \"{'amount': 14.64}\": 45,\n",
       " \"{'amount': 8.1}\": 45,\n",
       " \"{'amount': 4.71}\": 45,\n",
       " \"{'amount': 6.46}\": 45,\n",
       " \"{'amount': 17.5}\": 45,\n",
       " \"{'amount': 14.45}\": 45,\n",
       " \"{'amount': 17.31}\": 45,\n",
       " \"{'amount': 6.76}\": 45,\n",
       " \"{'amount': 5.86}\": 45,\n",
       " \"{'amount': 5.6}\": 45,\n",
       " \"{'amount': 13.7}\": 45,\n",
       " \"{'amount': 9.79}\": 45,\n",
       " \"{'amount': 14.57}\": 45,\n",
       " \"{'amount': 11.35}\": 45,\n",
       " \"{'amount': 17.56}\": 45,\n",
       " \"{'amount': 15.97}\": 45,\n",
       " \"{'amount': 18.28}\": 45,\n",
       " \"{'amount': 13.13}\": 45,\n",
       " \"{'amount': 6.49}\": 45,\n",
       " \"{'amount': 10.78}\": 45,\n",
       " \"{'amount': 10.45}\": 44,\n",
       " \"{'amount': 17.9}\": 44,\n",
       " \"{'amount': 19.01}\": 44,\n",
       " \"{'amount': 11.71}\": 44,\n",
       " \"{'amount': 9.13}\": 44,\n",
       " \"{'amount': 14.06}\": 44,\n",
       " \"{'amount': 7.17}\": 44,\n",
       " \"{'amount': 12.63}\": 44,\n",
       " \"{'amount': 8.53}\": 44,\n",
       " \"{'amount': 12.42}\": 44,\n",
       " \"{'amount': 17.2}\": 44,\n",
       " \"{'amount': 10.28}\": 44,\n",
       " \"{'amount': 12.16}\": 44,\n",
       " \"{'amount': 6.68}\": 44,\n",
       " \"{'amount': 20.68}\": 44,\n",
       " \"{'amount': 7.25}\": 44,\n",
       " \"{'amount': 6.29}\": 44,\n",
       " \"{'amount': 7.29}\": 44,\n",
       " \"{'amount': 6.3}\": 44,\n",
       " \"{'amount': 11.61}\": 44,\n",
       " \"{'amount': 5.76}\": 44,\n",
       " \"{'amount': 6.91}\": 44,\n",
       " \"{'amount': 20.03}\": 44,\n",
       " \"{'amount': 17.82}\": 44,\n",
       " \"{'amount': 15.96}\": 44,\n",
       " \"{'amount': 18.63}\": 44,\n",
       " \"{'amount': 11.11}\": 44,\n",
       " \"{'amount': 10.17}\": 44,\n",
       " \"{'amount': 7.14}\": 44,\n",
       " \"{'amount': 14.68}\": 44,\n",
       " \"{'amount': 7.12}\": 44,\n",
       " \"{'amount': 15.66}\": 44,\n",
       " \"{'amount': 17.45}\": 44,\n",
       " \"{'amount': 11.58}\": 44,\n",
       " \"{'amount': 7.4}\": 44,\n",
       " \"{'amount': 10.81}\": 44,\n",
       " \"{'amount': 15.53}\": 44,\n",
       " \"{'amount': 15.72}\": 44,\n",
       " \"{'amount': 13.52}\": 44,\n",
       " \"{'amount': 18.59}\": 44,\n",
       " \"{'amount': 5.57}\": 44,\n",
       " \"{'amount': 13.24}\": 44,\n",
       " \"{'amount': 5.08}\": 44,\n",
       " \"{'amount': 15.08}\": 44,\n",
       " \"{'amount': 7.33}\": 44,\n",
       " \"{'amount': 7.55}\": 44,\n",
       " \"{'amount': 10.7}\": 44,\n",
       " \"{'amount': 11.85}\": 44,\n",
       " \"{'amount': 8.69}\": 44,\n",
       " \"{'amount': 13.99}\": 44,\n",
       " \"{'amount': 7.5600000000000005}\": 44,\n",
       " \"{'amount': 11.19}\": 44,\n",
       " \"{'amount': 8.5}\": 44,\n",
       " \"{'amount': 5.95}\": 44,\n",
       " \"{'amount': 10.35}\": 44,\n",
       " \"{'amount': 8.82}\": 44,\n",
       " \"{'amount': 5.74}\": 44,\n",
       " \"{'amount': 7.76}\": 44,\n",
       " \"{'amount': 16.68}\": 44,\n",
       " \"{'amount': 7.97}\": 44,\n",
       " \"{'amount': 9.74}\": 43,\n",
       " \"{'amount': 14.48}\": 43,\n",
       " \"{'amount': 9.18}\": 43,\n",
       " \"{'amount': 19.48}\": 43,\n",
       " \"{'amount': 17.59}\": 43,\n",
       " \"{'amount': 10.22}\": 43,\n",
       " \"{'amount': 14.36}\": 43,\n",
       " \"{'amount': 8.09}\": 43,\n",
       " \"{'amount': 12.4}\": 43,\n",
       " \"{'amount': 14.34}\": 43,\n",
       " \"{'amount': 16.41}\": 43,\n",
       " \"{'amount': 7.28}\": 43,\n",
       " \"{'amount': 13.36}\": 43,\n",
       " \"{'amount': 13.88}\": 43,\n",
       " \"{'amount': 7.85}\": 43,\n",
       " \"{'amount': 13.76}\": 43,\n",
       " \"{'amount': 15.76}\": 43,\n",
       " \"{'amount': 19.07}\": 43,\n",
       " \"{'amount': 13.02}\": 43,\n",
       " \"{'amount': 16.72}\": 43,\n",
       " \"{'amount': 10.79}\": 43,\n",
       " \"{'amount': 7.6}\": 43,\n",
       " \"{'amount': 13.51}\": 43,\n",
       " \"{'amount': 6.16}\": 43,\n",
       " \"{'amount': 12.2}\": 43,\n",
       " \"{'amount': 7.89}\": 43,\n",
       " \"{'amount': 14.58}\": 43,\n",
       " \"{'amount': 18.22}\": 43,\n",
       " \"{'amount': 7.68}\": 43,\n",
       " \"{'amount': 15.2}\": 43,\n",
       " \"{'amount': 9.23}\": 43,\n",
       " \"{'amount': 10.51}\": 43,\n",
       " \"{'amount': 15.12}\": 43,\n",
       " \"{'amount': 7.2}\": 43,\n",
       " \"{'amount': 10.82}\": 43,\n",
       " \"{'amount': 6.32}\": 43,\n",
       " \"{'amount': 14.35}\": 43,\n",
       " \"{'amount': 10.11}\": 43,\n",
       " \"{'amount': 10.6}\": 43,\n",
       " \"{'amount': 14.66}\": 43,\n",
       " \"{'amount': 9.81}\": 43,\n",
       " \"{'amount': 18.73}\": 43,\n",
       " \"{'amount': 13.2}\": 43,\n",
       " \"{'amount': 6.94}\": 43,\n",
       " \"{'amount': 10.36}\": 43,\n",
       " \"{'amount': 17.25}\": 43,\n",
       " \"{'amount': 16.26}\": 43,\n",
       " \"{'amount': 6.8100000000000005}\": 43,\n",
       " \"{'amount': 15.27}\": 43,\n",
       " \"{'amount': 9.57}\": 43,\n",
       " \"{'amount': 10.55}\": 43,\n",
       " \"{'amount': 13.67}\": 43,\n",
       " \"{'amount': 10.99}\": 43,\n",
       " \"{'amount': 10.12}\": 43,\n",
       " \"{'amount': 7.39}\": 43,\n",
       " \"{'amount': 15.81}\": 43,\n",
       " \"{'amount': 9.09}\": 43,\n",
       " \"{'amount': 11.67}\": 43,\n",
       " \"{'amount': 7.38}\": 43,\n",
       " \"{'amount': 8.07}\": 43,\n",
       " \"{'amount': 12.82}\": 43,\n",
       " \"{'amount': 6.23}\": 42,\n",
       " \"{'amount': 8.54}\": 42,\n",
       " \"{'amount': 11.4}\": 42,\n",
       " \"{'amount': 15.9}\": 42,\n",
       " \"{'amount': 15.52}\": 42,\n",
       " \"{'amount': 5.67}\": 42,\n",
       " \"{'amount': 9.62}\": 42,\n",
       " \"{'amount': 13.22}\": 42,\n",
       " \"{'amount': 11.73}\": 42,\n",
       " \"{'amount': 14.53}\": 42,\n",
       " \"{'amount': 12.33}\": 42,\n",
       " \"{'amount': 19.14}\": 42,\n",
       " \"{'amount': 11.12}\": 42,\n",
       " \"{'amount': 6.35}\": 42,\n",
       " \"{'amount': 14.29}\": 42,\n",
       " \"{'amount': 14.5}\": 42,\n",
       " \"{'amount': 17.75}\": 42,\n",
       " \"{'amount': 11.53}\": 42,\n",
       " \"{'amount': 14.87}\": 42,\n",
       " \"{'amount': 7.87}\": 42,\n",
       " \"{'amount': 6.85}\": 42,\n",
       " \"{'amount': 14.15}\": 42,\n",
       " \"{'amount': 7.82}\": 42,\n",
       " \"{'amount': 16.65}\": 42,\n",
       " \"{'amount': 11.41}\": 42,\n",
       " \"{'amount': 18.17}\": 42,\n",
       " \"{'amount': 8.65}\": 42,\n",
       " \"{'amount': 16.3}\": 42,\n",
       " \"{'amount': 5.3}\": 42,\n",
       " \"{'amount': 13.93}\": 42,\n",
       " \"{'amount': 11.07}\": 42,\n",
       " \"{'amount': 16.82}\": 42,\n",
       " \"{'amount': 16.17}\": 42,\n",
       " \"{'amount': 12.08}\": 42,\n",
       " \"{'amount': 17.66}\": 42,\n",
       " \"{'amount': 15.32}\": 42,\n",
       " \"{'amount': 15.77}\": 42,\n",
       " \"{'amount': 14.92}\": 42,\n",
       " \"{'amount': 12.49}\": 42,\n",
       " \"{'amount': 15.1}\": 42,\n",
       " \"{'amount': 6.2}\": 42,\n",
       " \"{'amount': 12.7}\": 42,\n",
       " \"{'amount': 8.41}\": 42,\n",
       " \"{'amount': 18.46}\": 42,\n",
       " \"{'amount': 12.89}\": 42,\n",
       " \"{'amount': 17.62}\": 42,\n",
       " \"{'amount': 17.21}\": 42,\n",
       " \"{'amount': 10.71}\": 42,\n",
       " \"{'amount': 9.64}\": 42,\n",
       " \"{'amount': 12.85}\": 42,\n",
       " \"{'amount': 5.39}\": 42,\n",
       " \"{'amount': 7.18}\": 42,\n",
       " \"{'amount': 6.09}\": 42,\n",
       " \"{'amount': 14.99}\": 42,\n",
       " \"{'amount': 8.46}\": 42,\n",
       " ...}"
      ]
     },
     "execution_count": 6,
     "metadata": {},
     "output_type": "execute_result"
    }
   ],
   "source": [
    "transcript.value.astype('str').value_counts().to_dict()"
   ]
  },
  {
   "cell_type": "code",
   "execution_count": null,
   "metadata": {},
   "outputs": [],
   "source": []
  },
  {
   "cell_type": "code",
   "execution_count": 7,
   "metadata": {},
   "outputs": [
    {
     "data": {
      "image/png": "[encoded data removed]",
      "text/plain": [
       "<Figure size 576x360 with 1 Axes>"
      ]
     },
     "metadata": {
      "needs_background": "light"
     },
     "output_type": "display_data"
    }
   ],
   "source": [
    "base_color = sb.color_palette()[0]\n",
    "plt.rcParams['figure.figsize'] = 8, 5\n",
    "sb.countplot(data =transcript , y='event', color = base_color)\n",
    "plt.xlabel('Number of offers');\n",
    "plt.ylabel('Event');"
   ]
  },
  {
   "cell_type": "code",
   "execution_count": 8,
   "metadata": {},
   "outputs": [
    {
     "data": {
      "text/html": [
       "<div>\n",
       "<style scoped>\n",
       "    .dataframe tbody tr th:only-of-type {\n",
       "        vertical-align: middle;\n",
       "    }\n",
       "\n",
       "    .dataframe tbody tr th {\n",
       "        vertical-align: top;\n",
       "    }\n",
       "\n",
       "    .dataframe thead th {\n",
       "        text-align: right;\n",
       "    }\n",
       "</style>\n",
       "<table border=\"1\" class=\"dataframe\">\n",
       "  <thead>\n",
       "    <tr style=\"text-align: right;\">\n",
       "      <th></th>\n",
       "      <th>time</th>\n",
       "    </tr>\n",
       "  </thead>\n",
       "  <tbody>\n",
       "    <tr>\n",
       "      <th>count</th>\n",
       "      <td>306534.000000</td>\n",
       "    </tr>\n",
       "    <tr>\n",
       "      <th>mean</th>\n",
       "      <td>366.382940</td>\n",
       "    </tr>\n",
       "    <tr>\n",
       "      <th>std</th>\n",
       "      <td>200.326314</td>\n",
       "    </tr>\n",
       "    <tr>\n",
       "      <th>min</th>\n",
       "      <td>0.000000</td>\n",
       "    </tr>\n",
       "    <tr>\n",
       "      <th>25%</th>\n",
       "      <td>186.000000</td>\n",
       "    </tr>\n",
       "    <tr>\n",
       "      <th>50%</th>\n",
       "      <td>408.000000</td>\n",
       "    </tr>\n",
       "    <tr>\n",
       "      <th>75%</th>\n",
       "      <td>528.000000</td>\n",
       "    </tr>\n",
       "    <tr>\n",
       "      <th>max</th>\n",
       "      <td>714.000000</td>\n",
       "    </tr>\n",
       "  </tbody>\n",
       "</table>\n",
       "</div>"
      ],
      "text/plain": [
       "                time\n",
       "count  306534.000000\n",
       "mean      366.382940\n",
       "std       200.326314\n",
       "min         0.000000\n",
       "25%       186.000000\n",
       "50%       408.000000\n",
       "75%       528.000000\n",
       "max       714.000000"
      ]
     },
     "execution_count": 8,
     "metadata": {},
     "output_type": "execute_result"
    }
   ],
   "source": [
    "transcript.describe()"
   ]
  },
  {
   "cell_type": "markdown",
   "metadata": {},
   "source": [
    "### Exploring profile"
   ]
  },
  {
   "cell_type": "code",
   "execution_count": 9,
   "metadata": {},
   "outputs": [
    {
     "data": {
      "text/html": [
       "<div>\n",
       "<style scoped>\n",
       "    .dataframe tbody tr th:only-of-type {\n",
       "        vertical-align: middle;\n",
       "    }\n",
       "\n",
       "    .dataframe tbody tr th {\n",
       "        vertical-align: top;\n",
       "    }\n",
       "\n",
       "    .dataframe thead th {\n",
       "        text-align: right;\n",
       "    }\n",
       "</style>\n",
       "<table border=\"1\" class=\"dataframe\">\n",
       "  <thead>\n",
       "    <tr style=\"text-align: right;\">\n",
       "      <th></th>\n",
       "      <th>gender</th>\n",
       "      <th>age</th>\n",
       "      <th>id</th>\n",
       "      <th>became_member_on</th>\n",
       "      <th>income</th>\n",
       "    </tr>\n",
       "  </thead>\n",
       "  <tbody>\n",
       "    <tr>\n",
       "      <th>0</th>\n",
       "      <td>None</td>\n",
       "      <td>118</td>\n",
       "      <td>68be06ca386d4c31939f3a4f0e3dd783</td>\n",
       "      <td>20170212</td>\n",
       "      <td>NaN</td>\n",
       "    </tr>\n",
       "    <tr>\n",
       "      <th>1</th>\n",
       "      <td>F</td>\n",
       "      <td>55</td>\n",
       "      <td>0610b486422d4921ae7d2bf64640c50b</td>\n",
       "      <td>20170715</td>\n",
       "      <td>112000.0</td>\n",
       "    </tr>\n",
       "    <tr>\n",
       "      <th>2</th>\n",
       "      <td>None</td>\n",
       "      <td>118</td>\n",
       "      <td>38fe809add3b4fcf9315a9694bb96ff5</td>\n",
       "      <td>20180712</td>\n",
       "      <td>NaN</td>\n",
       "    </tr>\n",
       "    <tr>\n",
       "      <th>3</th>\n",
       "      <td>F</td>\n",
       "      <td>75</td>\n",
       "      <td>78afa995795e4d85b5d9ceeca43f5fef</td>\n",
       "      <td>20170509</td>\n",
       "      <td>100000.0</td>\n",
       "    </tr>\n",
       "    <tr>\n",
       "      <th>4</th>\n",
       "      <td>None</td>\n",
       "      <td>118</td>\n",
       "      <td>a03223e636434f42ac4c3df47e8bac43</td>\n",
       "      <td>20170804</td>\n",
       "      <td>NaN</td>\n",
       "    </tr>\n",
       "  </tbody>\n",
       "</table>\n",
       "</div>"
      ],
      "text/plain": [
       "  gender  age                                id  became_member_on    income\n",
       "0   None  118  68be06ca386d4c31939f3a4f0e3dd783          20170212       NaN\n",
       "1      F   55  0610b486422d4921ae7d2bf64640c50b          20170715  112000.0\n",
       "2   None  118  38fe809add3b4fcf9315a9694bb96ff5          20180712       NaN\n",
       "3      F   75  78afa995795e4d85b5d9ceeca43f5fef          20170509  100000.0\n",
       "4   None  118  a03223e636434f42ac4c3df47e8bac43          20170804       NaN"
      ]
     },
     "execution_count": 9,
     "metadata": {},
     "output_type": "execute_result"
    }
   ],
   "source": [
    "profile.head()"
   ]
  },
  {
   "cell_type": "code",
   "execution_count": 10,
   "metadata": {},
   "outputs": [
    {
     "name": "stdout",
     "output_type": "stream",
     "text": [
      "<class 'pandas.core.frame.DataFrame'>\n",
      "RangeIndex: 17000 entries, 0 to 16999\n",
      "Data columns (total 5 columns):\n",
      " #   Column            Non-Null Count  Dtype  \n",
      "---  ------            --------------  -----  \n",
      " 0   gender            14825 non-null  object \n",
      " 1   age               17000 non-null  int64  \n",
      " 2   id                17000 non-null  object \n",
      " 3   became_member_on  17000 non-null  int64  \n",
      " 4   income            14825 non-null  float64\n",
      "dtypes: float64(1), int64(2), object(2)\n",
      "memory usage: 664.2+ KB\n"
     ]
    }
   ],
   "source": [
    "profile.info()"
   ]
  },
  {
   "cell_type": "code",
   "execution_count": 11,
   "metadata": {},
   "outputs": [
    {
     "data": {
      "text/plain": [
       "118    2175\n",
       "58      408\n",
       "53      372\n",
       "51      363\n",
       "54      359\n",
       "       ... \n",
       "100      12\n",
       "96        8\n",
       "98        5\n",
       "99        5\n",
       "101       5\n",
       "Name: age, Length: 85, dtype: int64"
      ]
     },
     "execution_count": 11,
     "metadata": {},
     "output_type": "execute_result"
    }
   ],
   "source": [
    "profile.age.value_counts()"
   ]
  },
  {
   "cell_type": "code",
   "execution_count": 12,
   "metadata": {},
   "outputs": [
    {
     "data": {
      "text/plain": [
       "2175"
      ]
     },
     "execution_count": 12,
     "metadata": {},
     "output_type": "execute_result"
    }
   ],
   "source": [
    "profile.gender.isna().sum()"
   ]
  },
  {
   "cell_type": "code",
   "execution_count": 13,
   "metadata": {},
   "outputs": [
    {
     "data": {
      "image/png": "[encoded data removed]",
      "text/plain": [
       "<Figure size 576x360 with 1 Axes>"
      ]
     },
     "metadata": {},
     "output_type": "display_data"
    }
   ],
   "source": [
    "labels = 'Male', 'Femal', 'Others'\n",
    "sizes = [15, 30, 45, 10]\n",
    "fig1, ax1 = plt.subplots()\n",
    "ax1.pie(profile.gender.value_counts(), labels=labels, autopct='%1.1f%%',\n",
    "         startangle=90)\n",
    "ax1.axis('equal')  # Equal aspect ratio ensures that pie is drawn as a circle.\n",
    "\n",
    "plt.show()"
   ]
  },
  {
   "cell_type": "markdown",
   "metadata": {},
   "source": [
    "Most of the users are male with no huge difference with female"
   ]
  },
  {
   "cell_type": "code",
   "execution_count": 14,
   "metadata": {},
   "outputs": [
    {
     "data": {
      "text/plain": [
       "Text(0.5, 0, 'Age')"
      ]
     },
     "execution_count": 14,
     "metadata": {},
     "output_type": "execute_result"
    },
    {
     "data": {
      "image/png": "[encoded data removed]",
      "text/plain": [
       "<Figure size 576x360 with 1 Axes>"
      ]
     },
     "metadata": {
      "needs_background": "light"
     },
     "output_type": "display_data"
    }
   ],
   "source": [
    "plt.rcParams['figure.figsize'] = 8, 5\n",
    "bins = np.arange(0,120, 1)\n",
    "ticks = np.arange(0, 120, 5)\n",
    "plt.hist(data=profile, x='age', bins=bins, rwidth = 0.6);\n",
    "plt.xticks(ticks, rotation = 15);\n",
    "plt.xlabel('Age')"
   ]
  },
  {
   "cell_type": "markdown",
   "metadata": {},
   "source": [
    "Her we se that most people are between 18 and 75 using the app while more use the app between 55 and 65. and the curve decreases \n",
    "tremendously after the age of 75."
   ]
  },
  {
   "cell_type": "code",
   "execution_count": 15,
   "metadata": {},
   "outputs": [
    {
     "data": {
      "text/plain": [
       "count    17000.000000\n",
       "mean        62.531412\n",
       "std         26.738580\n",
       "min         18.000000\n",
       "25%         45.000000\n",
       "50%         58.000000\n",
       "75%         73.000000\n",
       "max        118.000000\n",
       "Name: age, dtype: float64"
      ]
     },
     "execution_count": 15,
     "metadata": {},
     "output_type": "execute_result"
    }
   ],
   "source": [
    "profile.age.describe()"
   ]
  },
  {
   "cell_type": "code",
   "execution_count": 16,
   "metadata": {},
   "outputs": [
    {
     "data": {
      "text/plain": [
       "gender              2175\n",
       "age                    0\n",
       "id                     0\n",
       "became_member_on       0\n",
       "income              2175\n",
       "dtype: int64"
      ]
     },
     "execution_count": 16,
     "metadata": {},
     "output_type": "execute_result"
    }
   ],
   "source": [
    "profile[profile.age >= 95].isnull().sum()"
   ]
  },
  {
   "cell_type": "markdown",
   "metadata": {},
   "source": [
    "it looks like that When age is more than 95 the information of gender and income is not provided."
   ]
  },
  {
   "cell_type": "markdown",
   "metadata": {},
   "source": [
    "### Exploring portfolio"
   ]
  },
  {
   "cell_type": "code",
   "execution_count": 17,
   "metadata": {},
   "outputs": [
    {
     "data": {
      "text/html": [
       "<div>\n",
       "<style scoped>\n",
       "    .dataframe tbody tr th:only-of-type {\n",
       "        vertical-align: middle;\n",
       "    }\n",
       "\n",
       "    .dataframe tbody tr th {\n",
       "        vertical-align: top;\n",
       "    }\n",
       "\n",
       "    .dataframe thead th {\n",
       "        text-align: right;\n",
       "    }\n",
       "</style>\n",
       "<table border=\"1\" class=\"dataframe\">\n",
       "  <thead>\n",
       "    <tr style=\"text-align: right;\">\n",
       "      <th></th>\n",
       "      <th>reward</th>\n",
       "      <th>channels</th>\n",
       "      <th>difficulty</th>\n",
       "      <th>duration</th>\n",
       "      <th>offer_type</th>\n",
       "      <th>id</th>\n",
       "    </tr>\n",
       "  </thead>\n",
       "  <tbody>\n",
       "    <tr>\n",
       "      <th>0</th>\n",
       "      <td>10</td>\n",
       "      <td>[email, mobile, social]</td>\n",
       "      <td>10</td>\n",
       "      <td>7</td>\n",
       "      <td>bogo</td>\n",
       "      <td>ae264e3637204a6fb9bb56bc8210ddfd</td>\n",
       "    </tr>\n",
       "    <tr>\n",
       "      <th>1</th>\n",
       "      <td>10</td>\n",
       "      <td>[web, email, mobile, social]</td>\n",
       "      <td>10</td>\n",
       "      <td>5</td>\n",
       "      <td>bogo</td>\n",
       "      <td>4d5c57ea9a6940dd891ad53e9dbe8da0</td>\n",
       "    </tr>\n",
       "    <tr>\n",
       "      <th>2</th>\n",
       "      <td>0</td>\n",
       "      <td>[web, email, mobile]</td>\n",
       "      <td>0</td>\n",
       "      <td>4</td>\n",
       "      <td>informational</td>\n",
       "      <td>3f207df678b143eea3cee63160fa8bed</td>\n",
       "    </tr>\n",
       "    <tr>\n",
       "      <th>3</th>\n",
       "      <td>5</td>\n",
       "      <td>[web, email, mobile]</td>\n",
       "      <td>5</td>\n",
       "      <td>7</td>\n",
       "      <td>bogo</td>\n",
       "      <td>9b98b8c7a33c4b65b9aebfe6a799e6d9</td>\n",
       "    </tr>\n",
       "    <tr>\n",
       "      <th>4</th>\n",
       "      <td>5</td>\n",
       "      <td>[web, email]</td>\n",
       "      <td>20</td>\n",
       "      <td>10</td>\n",
       "      <td>discount</td>\n",
       "      <td>0b1e1539f2cc45b7b9fa7c272da2e1d7</td>\n",
       "    </tr>\n",
       "    <tr>\n",
       "      <th>5</th>\n",
       "      <td>3</td>\n",
       "      <td>[web, email, mobile, social]</td>\n",
       "      <td>7</td>\n",
       "      <td>7</td>\n",
       "      <td>discount</td>\n",
       "      <td>2298d6c36e964ae4a3e7e9706d1fb8c2</td>\n",
       "    </tr>\n",
       "    <tr>\n",
       "      <th>6</th>\n",
       "      <td>2</td>\n",
       "      <td>[web, email, mobile, social]</td>\n",
       "      <td>10</td>\n",
       "      <td>10</td>\n",
       "      <td>discount</td>\n",
       "      <td>fafdcd668e3743c1bb461111dcafc2a4</td>\n",
       "    </tr>\n",
       "    <tr>\n",
       "      <th>7</th>\n",
       "      <td>0</td>\n",
       "      <td>[email, mobile, social]</td>\n",
       "      <td>0</td>\n",
       "      <td>3</td>\n",
       "      <td>informational</td>\n",
       "      <td>5a8bc65990b245e5a138643cd4eb9837</td>\n",
       "    </tr>\n",
       "    <tr>\n",
       "      <th>8</th>\n",
       "      <td>5</td>\n",
       "      <td>[web, email, mobile, social]</td>\n",
       "      <td>5</td>\n",
       "      <td>5</td>\n",
       "      <td>bogo</td>\n",
       "      <td>f19421c1d4aa40978ebb69ca19b0e20d</td>\n",
       "    </tr>\n",
       "    <tr>\n",
       "      <th>9</th>\n",
       "      <td>2</td>\n",
       "      <td>[web, email, mobile]</td>\n",
       "      <td>10</td>\n",
       "      <td>7</td>\n",
       "      <td>discount</td>\n",
       "      <td>2906b810c7d4411798c6938adc9daaa5</td>\n",
       "    </tr>\n",
       "  </tbody>\n",
       "</table>\n",
       "</div>"
      ],
      "text/plain": [
       "   reward                      channels  difficulty  duration     offer_type  \\\n",
       "0      10       [email, mobile, social]          10         7           bogo   \n",
       "1      10  [web, email, mobile, social]          10         5           bogo   \n",
       "2       0          [web, email, mobile]           0         4  informational   \n",
       "3       5          [web, email, mobile]           5         7           bogo   \n",
       "4       5                  [web, email]          20        10       discount   \n",
       "5       3  [web, email, mobile, social]           7         7       discount   \n",
       "6       2  [web, email, mobile, social]          10        10       discount   \n",
       "7       0       [email, mobile, social]           0         3  informational   \n",
       "8       5  [web, email, mobile, social]           5         5           bogo   \n",
       "9       2          [web, email, mobile]          10         7       discount   \n",
       "\n",
       "                                 id  \n",
       "0  ae264e3637204a6fb9bb56bc8210ddfd  \n",
       "1  4d5c57ea9a6940dd891ad53e9dbe8da0  \n",
       "2  3f207df678b143eea3cee63160fa8bed  \n",
       "3  9b98b8c7a33c4b65b9aebfe6a799e6d9  \n",
       "4  0b1e1539f2cc45b7b9fa7c272da2e1d7  \n",
       "5  2298d6c36e964ae4a3e7e9706d1fb8c2  \n",
       "6  fafdcd668e3743c1bb461111dcafc2a4  \n",
       "7  5a8bc65990b245e5a138643cd4eb9837  \n",
       "8  f19421c1d4aa40978ebb69ca19b0e20d  \n",
       "9  2906b810c7d4411798c6938adc9daaa5  "
      ]
     },
     "execution_count": 17,
     "metadata": {},
     "output_type": "execute_result"
    }
   ],
   "source": [
    "portfolio.head(10)"
   ]
  },
  {
   "cell_type": "code",
   "execution_count": 18,
   "metadata": {},
   "outputs": [
    {
     "name": "stdout",
     "output_type": "stream",
     "text": [
      "<class 'pandas.core.frame.DataFrame'>\n",
      "RangeIndex: 10 entries, 0 to 9\n",
      "Data columns (total 6 columns):\n",
      " #   Column      Non-Null Count  Dtype \n",
      "---  ------      --------------  ----- \n",
      " 0   reward      10 non-null     int64 \n",
      " 1   channels    10 non-null     object\n",
      " 2   difficulty  10 non-null     int64 \n",
      " 3   duration    10 non-null     int64 \n",
      " 4   offer_type  10 non-null     object\n",
      " 5   id          10 non-null     object\n",
      "dtypes: int64(3), object(3)\n",
      "memory usage: 608.0+ bytes\n"
     ]
    }
   ],
   "source": [
    "portfolio.info()"
   ]
  },
  {
   "cell_type": "code",
   "execution_count": 19,
   "metadata": {},
   "outputs": [
    {
     "data": {
      "text/plain": [
       "bogo             4\n",
       "discount         4\n",
       "informational    2\n",
       "Name: offer_type, dtype: int64"
      ]
     },
     "execution_count": 19,
     "metadata": {},
     "output_type": "execute_result"
    }
   ],
   "source": [
    "portfolio.offer_type.value_counts()"
   ]
  },
  {
   "cell_type": "code",
   "execution_count": 20,
   "metadata": {},
   "outputs": [
    {
     "data": {
      "text/plain": [
       "5     3\n",
       "10    2\n",
       "2     2\n",
       "0     2\n",
       "3     1\n",
       "Name: reward, dtype: int64"
      ]
     },
     "execution_count": 20,
     "metadata": {},
     "output_type": "execute_result"
    }
   ],
   "source": [
    "portfolio.reward.value_counts()"
   ]
  },
  {
   "cell_type": "code",
   "execution_count": 21,
   "metadata": {},
   "outputs": [
    {
     "data": {
      "text/plain": [
       "10    4\n",
       "5     2\n",
       "0     2\n",
       "7     1\n",
       "20    1\n",
       "Name: difficulty, dtype: int64"
      ]
     },
     "execution_count": 21,
     "metadata": {},
     "output_type": "execute_result"
    }
   ],
   "source": [
    "portfolio.difficulty.value_counts()"
   ]
  },
  {
   "cell_type": "code",
   "execution_count": 22,
   "metadata": {},
   "outputs": [
    {
     "data": {
      "image/png": "[encoded data removed]",
      "text/plain": [
       "<Figure size 576x360 with 1 Axes>"
      ]
     },
     "metadata": {
      "needs_background": "light"
     },
     "output_type": "display_data"
    }
   ],
   "source": [
    "plt.rcParams['figure.figsize'] = 8, 5\n",
    "sb.countplot(data =portfolio , y='offer_type', color = base_color)\n",
    "plt.xlabel('Number of offers');\n",
    "plt.ylabel('offer_type');"
   ]
  },
  {
   "cell_type": "code",
   "execution_count": 23,
   "metadata": {},
   "outputs": [
    {
     "data": {
      "image/png": "[encoded data removed]",
      "text/plain": [
       "<Figure size 576x360 with 1 Axes>"
      ]
     },
     "metadata": {
      "needs_background": "light"
     },
     "output_type": "display_data"
    }
   ],
   "source": [
    "plt.rcParams['figure.figsize'] = 8, 5\n",
    "sb.countplot(data =portfolio , y='reward', color = base_color)\n",
    "plt.ylabel('offer_type');"
   ]
  },
  {
   "cell_type": "code",
   "execution_count": 24,
   "metadata": {},
   "outputs": [
    {
     "data": {
      "image/png": "[encoded data removed]",
      "text/plain": [
       "<Figure size 576x360 with 1 Axes>"
      ]
     },
     "metadata": {
      "needs_background": "light"
     },
     "output_type": "display_data"
    }
   ],
   "source": [
    "plt.rcParams['figure.figsize'] = 8, 5\n",
    "sb.countplot(data =portfolio , y='difficulty', color = base_color)\n",
    "plt.ylabel('difficulty');"
   ]
  },
  {
   "cell_type": "code",
   "execution_count": 25,
   "metadata": {},
   "outputs": [
    {
     "data": {
      "image/png": "[encoded data removed]",
      "text/plain": [
       "<Figure size 576x360 with 1 Axes>"
      ]
     },
     "metadata": {
      "needs_background": "light"
     },
     "output_type": "display_data"
    }
   ],
   "source": [
    "plt.rcParams['figure.figsize'] = 8, 5\n",
    "sb.countplot(data =portfolio , y='duration', color = base_color)\n",
    "plt.ylabel('duration');"
   ]
  },
  {
   "cell_type": "markdown",
   "metadata": {},
   "source": [
    "Here we see that most duration for offers is 7 days and most offers used are bogo and discount equaly."
   ]
  },
  {
   "cell_type": "markdown",
   "metadata": {},
   "source": [
    "## Clean"
   ]
  },
  {
   "cell_type": "markdown",
   "metadata": {},
   "source": [
    "### transcript\n",
    "#### Define\n",
    "- Change the name of person column into customer_id\n",
    "- split the column dictionary based on its keys for ( offer_id, reward, amount)\n",
    "- Drop the unnecessary columns"
   ]
  },
  {
   "cell_type": "code",
   "execution_count": 26,
   "metadata": {},
   "outputs": [],
   "source": [
    "clean_trans = transcript.copy()"
   ]
  },
  {
   "cell_type": "code",
   "execution_count": 27,
   "metadata": {},
   "outputs": [],
   "source": [
    "#Changing person column to customer_id\n",
    "clean_trans = clean_trans.rename(columns = {'person':'customer_id'})"
   ]
  },
  {
   "cell_type": "code",
   "execution_count": 28,
   "metadata": {},
   "outputs": [
    {
     "data": {
      "text/plain": [
       "Index(['customer_id', 'event', 'value', 'time'], dtype='object')"
      ]
     },
     "execution_count": 28,
     "metadata": {},
     "output_type": "execute_result"
    }
   ],
   "source": [
    "#Test\n",
    "clean_trans.columns"
   ]
  },
  {
   "cell_type": "code",
   "execution_count": 29,
   "metadata": {},
   "outputs": [],
   "source": [
    "#spliting the dict into seperat columns\n",
    "#starting with offer_id/offer id\n",
    "clean_trans['offer_id'] = clean_trans.value.apply(lambda x: x.get('offer_id'))\n",
    "clean_trans['offer id'] = clean_trans.value.apply(lambda x: x.get('offer id'))"
   ]
  },
  {
   "cell_type": "code",
   "execution_count": 30,
   "metadata": {},
   "outputs": [],
   "source": [
    "#combining offer_id and offer id in one column offer_id\n",
    "clean_trans['offer_id'] = clean_trans.apply(lambda x : x['offer id'] if x['offer_id'] == None else x['offer_id'], axis=1)"
   ]
  },
  {
   "cell_type": "code",
   "execution_count": 31,
   "metadata": {},
   "outputs": [],
   "source": [
    "#we no longer need offer id so drop it\n",
    "clean_trans.drop('offer id',axis = 1,inplace = True)"
   ]
  },
  {
   "cell_type": "code",
   "execution_count": 32,
   "metadata": {},
   "outputs": [
    {
     "data": {
      "text/plain": [
       "Index(['customer_id', 'event', 'value', 'time', 'offer_id'], dtype='object')"
      ]
     },
     "execution_count": 32,
     "metadata": {},
     "output_type": "execute_result"
    }
   ],
   "source": [
    "#Test\n",
    "clean_trans.columns"
   ]
  },
  {
   "cell_type": "code",
   "execution_count": 33,
   "metadata": {},
   "outputs": [],
   "source": [
    "#Now we split the rest of the dict reward and amount\n",
    "clean_trans['offer_reward'] = clean_trans['value'].apply(lambda x: x.get('reward'))\n",
    "clean_trans['amount'] = clean_trans['value'].apply(lambda x: x.get('amount'))"
   ]
  },
  {
   "cell_type": "code",
   "execution_count": 34,
   "metadata": {},
   "outputs": [],
   "source": [
    "#we no longer need the value column\n",
    "clean_trans.drop('value',axis = 1,inplace = True)"
   ]
  },
  {
   "cell_type": "code",
   "execution_count": 35,
   "metadata": {},
   "outputs": [],
   "source": [
    "#fill all nan with 0\n",
    "clean_trans.fillna(0 , inplace=True)"
   ]
  },
  {
   "cell_type": "code",
   "execution_count": 36,
   "metadata": {},
   "outputs": [
    {
     "data": {
      "text/plain": [
       "Index(['customer_id', 'event', 'time', 'offer_id', 'offer_reward', 'amount'], dtype='object')"
      ]
     },
     "execution_count": 36,
     "metadata": {},
     "output_type": "execute_result"
    }
   ],
   "source": [
    "#Test\n",
    "clean_trans.columns"
   ]
  },
  {
   "cell_type": "code",
   "execution_count": 37,
   "metadata": {},
   "outputs": [
    {
     "name": "stdout",
     "output_type": "stream",
     "text": [
      "<class 'pandas.core.frame.DataFrame'>\n",
      "RangeIndex: 306534 entries, 0 to 306533\n",
      "Data columns (total 6 columns):\n",
      " #   Column        Non-Null Count   Dtype  \n",
      "---  ------        --------------   -----  \n",
      " 0   customer_id   306534 non-null  object \n",
      " 1   event         306534 non-null  object \n",
      " 2   time          306534 non-null  int64  \n",
      " 3   offer_id      306534 non-null  object \n",
      " 4   offer_reward  306534 non-null  float64\n",
      " 5   amount        306534 non-null  float64\n",
      "dtypes: float64(2), int64(1), object(3)\n",
      "memory usage: 14.0+ MB\n"
     ]
    }
   ],
   "source": [
    "#Test\n",
    "clean_trans.info()"
   ]
  },
  {
   "cell_type": "markdown",
   "metadata": {},
   "source": [
    "### profile"
   ]
  },
  {
   "cell_type": "markdown",
   "metadata": {},
   "source": [
    "#### Define\n",
    "- rename id to customer_id\n",
    "- change became_member_on datatype from string to datetime\n",
    "- fill missing value in income with the mean\n",
    "- fill missing value in income with the mode(most frequent)\n",
    "- categorize peaple with there age\n"
   ]
  },
  {
   "cell_type": "code",
   "execution_count": 38,
   "metadata": {},
   "outputs": [],
   "source": [
    "clean_prof=profile.copy()"
   ]
  },
  {
   "cell_type": "code",
   "execution_count": 39,
   "metadata": {},
   "outputs": [],
   "source": [
    "#Changing id column to customer_id\n",
    "clean_prof = clean_prof.rename(columns = {'id':'customer_id'})"
   ]
  },
  {
   "cell_type": "code",
   "execution_count": 40,
   "metadata": {},
   "outputs": [
    {
     "data": {
      "text/plain": [
       "Index(['gender', 'age', 'customer_id', 'became_member_on', 'income'], dtype='object')"
      ]
     },
     "execution_count": 40,
     "metadata": {},
     "output_type": "execute_result"
    }
   ],
   "source": [
    "#Test\n",
    "clean_prof.columns"
   ]
  },
  {
   "cell_type": "code",
   "execution_count": 41,
   "metadata": {},
   "outputs": [],
   "source": [
    "#change became_member_on to datetime\n",
    "clean_prof.became_member_on = pd.to_datetime(clean_prof['became_member_on'])"
   ]
  },
  {
   "cell_type": "code",
   "execution_count": 42,
   "metadata": {},
   "outputs": [
    {
     "name": "stdout",
     "output_type": "stream",
     "text": [
      "<class 'pandas.core.frame.DataFrame'>\n",
      "RangeIndex: 17000 entries, 0 to 16999\n",
      "Data columns (total 5 columns):\n",
      " #   Column            Non-Null Count  Dtype         \n",
      "---  ------            --------------  -----         \n",
      " 0   gender            14825 non-null  object        \n",
      " 1   age               17000 non-null  int64         \n",
      " 2   customer_id       17000 non-null  object        \n",
      " 3   became_member_on  17000 non-null  datetime64[ns]\n",
      " 4   income            14825 non-null  float64       \n",
      "dtypes: datetime64[ns](1), float64(1), int64(1), object(2)\n",
      "memory usage: 664.2+ KB\n"
     ]
    }
   ],
   "source": [
    "#Test\n",
    "clean_prof.info()"
   ]
  },
  {
   "cell_type": "code",
   "execution_count": 43,
   "metadata": {},
   "outputs": [],
   "source": [
    "#fill missing value in income with the mean\n",
    "clean_prof['income'] = clean_prof['income'].fillna(clean_prof['income'].mean())"
   ]
  },
  {
   "cell_type": "code",
   "execution_count": 44,
   "metadata": {},
   "outputs": [
    {
     "data": {
      "text/plain": [
       "0"
      ]
     },
     "execution_count": 44,
     "metadata": {},
     "output_type": "execute_result"
    }
   ],
   "source": [
    "#Test\n",
    "clean_prof['income'].isnull().sum()"
   ]
  },
  {
   "cell_type": "code",
   "execution_count": 45,
   "metadata": {},
   "outputs": [],
   "source": [
    "#fill missing value in income with the mode(most frequent)\n",
    "mode = clean_prof['gender'].mode()[0]\n",
    "clean_prof['gender'] = clean_prof['gender'].fillna(mode)"
   ]
  },
  {
   "cell_type": "code",
   "execution_count": 46,
   "metadata": {},
   "outputs": [
    {
     "data": {
      "text/plain": [
       "gender              0\n",
       "age                 0\n",
       "customer_id         0\n",
       "became_member_on    0\n",
       "income              0\n",
       "dtype: int64"
      ]
     },
     "execution_count": 46,
     "metadata": {},
     "output_type": "execute_result"
    }
   ],
   "source": [
    "#Test\n",
    "clean_prof.isnull().sum()"
   ]
  },
  {
   "cell_type": "code",
   "execution_count": 47,
   "metadata": {},
   "outputs": [],
   "source": [
    "#Identify peaple older than 95 as outlaiers\n",
    "clean_prof = clean_prof[clean_prof['age'] <=95]"
   ]
  },
  {
   "cell_type": "code",
   "execution_count": 48,
   "metadata": {},
   "outputs": [],
   "source": [
    "#categorize peaple with there age\n",
    "clean_prof['age_groups'] = pd.cut(clean_prof.age, bins=[0, 18, 30, 50, 70, 95], labels=['child', 'teen', 'young_adult', 'adult', 'old_man'])"
   ]
  },
  {
   "cell_type": "code",
   "execution_count": 49,
   "metadata": {},
   "outputs": [
    {
     "name": "stdout",
     "output_type": "stream",
     "text": [
      "<class 'pandas.core.frame.DataFrame'>\n",
      "Int64Index: 14777 entries, 1 to 16999\n",
      "Data columns (total 6 columns):\n",
      " #   Column            Non-Null Count  Dtype         \n",
      "---  ------            --------------  -----         \n",
      " 0   gender            14777 non-null  object        \n",
      " 1   age               14777 non-null  int64         \n",
      " 2   customer_id       14777 non-null  object        \n",
      " 3   became_member_on  14777 non-null  datetime64[ns]\n",
      " 4   income            14777 non-null  float64       \n",
      " 5   age_groups        14777 non-null  category      \n",
      "dtypes: category(1), datetime64[ns](1), float64(1), int64(1), object(2)\n",
      "memory usage: 707.3+ KB\n"
     ]
    }
   ],
   "source": [
    "clean_prof.info()"
   ]
  },
  {
   "cell_type": "markdown",
   "metadata": {},
   "source": [
    "### portfolio"
   ]
  },
  {
   "cell_type": "markdown",
   "metadata": {},
   "source": [
    "#### Define\n",
    "- rename id to customer_id\n",
    "- apply one hot encoding to channels column"
   ]
  },
  {
   "cell_type": "code",
   "execution_count": 50,
   "metadata": {},
   "outputs": [],
   "source": [
    "clean_port = portfolio.copy()"
   ]
  },
  {
   "cell_type": "code",
   "execution_count": 51,
   "metadata": {},
   "outputs": [],
   "source": [
    "clean_port = clean_port.rename(columns= {'id':'offer_id'})"
   ]
  },
  {
   "cell_type": "code",
   "execution_count": 52,
   "metadata": {},
   "outputs": [
    {
     "data": {
      "text/plain": [
       "Index(['reward', 'channels', 'difficulty', 'duration', 'offer_type',\n",
       "       'offer_id'],\n",
       "      dtype='object')"
      ]
     },
     "execution_count": 52,
     "metadata": {},
     "output_type": "execute_result"
    }
   ],
   "source": [
    "#Test\n",
    "clean_port.columns"
   ]
  },
  {
   "cell_type": "code",
   "execution_count": 53,
   "metadata": {},
   "outputs": [],
   "source": [
    "# apply one hot encoding to channels column\n",
    "clean_port['social'] = clean_port['channels'].apply(lambda x: 1 if 'social' in x else 0)\n",
    "clean_port['web'] = clean_port['channels'].apply(lambda x: 1 if 'web' in x else 0)\n",
    "clean_port['email'] = clean_port['channels'].apply(lambda x: 1 if 'email' in x else 0)\n",
    "clean_port['mobile'] = clean_port['channels'].apply(lambda x: 1 if 'mobile' in x else 0)"
   ]
  },
  {
   "cell_type": "code",
   "execution_count": 54,
   "metadata": {},
   "outputs": [],
   "source": [
    "clean_port.drop('channels',axis = 1,inplace = True)"
   ]
  },
  {
   "cell_type": "code",
   "execution_count": 55,
   "metadata": {},
   "outputs": [
    {
     "name": "stdout",
     "output_type": "stream",
     "text": [
      "<class 'pandas.core.frame.DataFrame'>\n",
      "RangeIndex: 10 entries, 0 to 9\n",
      "Data columns (total 9 columns):\n",
      " #   Column      Non-Null Count  Dtype \n",
      "---  ------      --------------  ----- \n",
      " 0   reward      10 non-null     int64 \n",
      " 1   difficulty  10 non-null     int64 \n",
      " 2   duration    10 non-null     int64 \n",
      " 3   offer_type  10 non-null     object\n",
      " 4   offer_id    10 non-null     object\n",
      " 5   social      10 non-null     int64 \n",
      " 6   web         10 non-null     int64 \n",
      " 7   email       10 non-null     int64 \n",
      " 8   mobile      10 non-null     int64 \n",
      "dtypes: int64(7), object(2)\n",
      "memory usage: 848.0+ bytes\n"
     ]
    }
   ],
   "source": [
    "clean_port.info()"
   ]
  },
  {
   "cell_type": "code",
   "execution_count": 56,
   "metadata": {
    "scrolled": true
   },
   "outputs": [
    {
     "data": {
      "text/html": [
       "<div>\n",
       "<style scoped>\n",
       "    .dataframe tbody tr th:only-of-type {\n",
       "        vertical-align: middle;\n",
       "    }\n",
       "\n",
       "    .dataframe tbody tr th {\n",
       "        vertical-align: top;\n",
       "    }\n",
       "\n",
       "    .dataframe thead th {\n",
       "        text-align: right;\n",
       "    }\n",
       "</style>\n",
       "<table border=\"1\" class=\"dataframe\">\n",
       "  <thead>\n",
       "    <tr style=\"text-align: right;\">\n",
       "      <th></th>\n",
       "      <th>reward</th>\n",
       "      <th>difficulty</th>\n",
       "      <th>duration</th>\n",
       "      <th>offer_type</th>\n",
       "      <th>offer_id</th>\n",
       "      <th>social</th>\n",
       "      <th>web</th>\n",
       "      <th>email</th>\n",
       "      <th>mobile</th>\n",
       "    </tr>\n",
       "  </thead>\n",
       "  <tbody>\n",
       "    <tr>\n",
       "      <th>0</th>\n",
       "      <td>10</td>\n",
       "      <td>10</td>\n",
       "      <td>7</td>\n",
       "      <td>bogo</td>\n",
       "      <td>ae264e3637204a6fb9bb56bc8210ddfd</td>\n",
       "      <td>1</td>\n",
       "      <td>0</td>\n",
       "      <td>1</td>\n",
       "      <td>1</td>\n",
       "    </tr>\n",
       "    <tr>\n",
       "      <th>1</th>\n",
       "      <td>10</td>\n",
       "      <td>10</td>\n",
       "      <td>5</td>\n",
       "      <td>bogo</td>\n",
       "      <td>4d5c57ea9a6940dd891ad53e9dbe8da0</td>\n",
       "      <td>1</td>\n",
       "      <td>1</td>\n",
       "      <td>1</td>\n",
       "      <td>1</td>\n",
       "    </tr>\n",
       "    <tr>\n",
       "      <th>2</th>\n",
       "      <td>0</td>\n",
       "      <td>0</td>\n",
       "      <td>4</td>\n",
       "      <td>informational</td>\n",
       "      <td>3f207df678b143eea3cee63160fa8bed</td>\n",
       "      <td>0</td>\n",
       "      <td>1</td>\n",
       "      <td>1</td>\n",
       "      <td>1</td>\n",
       "    </tr>\n",
       "    <tr>\n",
       "      <th>3</th>\n",
       "      <td>5</td>\n",
       "      <td>5</td>\n",
       "      <td>7</td>\n",
       "      <td>bogo</td>\n",
       "      <td>9b98b8c7a33c4b65b9aebfe6a799e6d9</td>\n",
       "      <td>0</td>\n",
       "      <td>1</td>\n",
       "      <td>1</td>\n",
       "      <td>1</td>\n",
       "    </tr>\n",
       "    <tr>\n",
       "      <th>4</th>\n",
       "      <td>5</td>\n",
       "      <td>20</td>\n",
       "      <td>10</td>\n",
       "      <td>discount</td>\n",
       "      <td>0b1e1539f2cc45b7b9fa7c272da2e1d7</td>\n",
       "      <td>0</td>\n",
       "      <td>1</td>\n",
       "      <td>1</td>\n",
       "      <td>0</td>\n",
       "    </tr>\n",
       "  </tbody>\n",
       "</table>\n",
       "</div>"
      ],
      "text/plain": [
       "   reward  difficulty  duration     offer_type  \\\n",
       "0      10          10         7           bogo   \n",
       "1      10          10         5           bogo   \n",
       "2       0           0         4  informational   \n",
       "3       5           5         7           bogo   \n",
       "4       5          20        10       discount   \n",
       "\n",
       "                           offer_id  social  web  email  mobile  \n",
       "0  ae264e3637204a6fb9bb56bc8210ddfd       1    0      1       1  \n",
       "1  4d5c57ea9a6940dd891ad53e9dbe8da0       1    1      1       1  \n",
       "2  3f207df678b143eea3cee63160fa8bed       0    1      1       1  \n",
       "3  9b98b8c7a33c4b65b9aebfe6a799e6d9       0    1      1       1  \n",
       "4  0b1e1539f2cc45b7b9fa7c272da2e1d7       0    1      1       0  "
      ]
     },
     "execution_count": 56,
     "metadata": {},
     "output_type": "execute_result"
    }
   ],
   "source": [
    "clean_port.head()"
   ]
  },
  {
   "cell_type": "markdown",
   "metadata": {},
   "source": [
    "**Last step in cleaning process merging all the datafremes.**"
   ]
  },
  {
   "cell_type": "code",
   "execution_count": 57,
   "metadata": {},
   "outputs": [],
   "source": [
    "merge = pd.merge(clean_port, clean_trans, on='offer_id')\n",
    "df = pd.merge(merge, clean_prof, on='customer_id')"
   ]
  },
  {
   "cell_type": "code",
   "execution_count": 58,
   "metadata": {},
   "outputs": [
    {
     "name": "stdout",
     "output_type": "stream",
     "text": [
      "<class 'pandas.core.frame.DataFrame'>\n",
      "Int64Index: 148301 entries, 0 to 148300\n",
      "Data columns (total 19 columns):\n",
      " #   Column            Non-Null Count   Dtype         \n",
      "---  ------            --------------   -----         \n",
      " 0   reward            148301 non-null  int64         \n",
      " 1   difficulty        148301 non-null  int64         \n",
      " 2   duration          148301 non-null  int64         \n",
      " 3   offer_type        148301 non-null  object        \n",
      " 4   offer_id          148301 non-null  object        \n",
      " 5   social            148301 non-null  int64         \n",
      " 6   web               148301 non-null  int64         \n",
      " 7   email             148301 non-null  int64         \n",
      " 8   mobile            148301 non-null  int64         \n",
      " 9   customer_id       148301 non-null  object        \n",
      " 10  event             148301 non-null  object        \n",
      " 11  time              148301 non-null  int64         \n",
      " 12  offer_reward      148301 non-null  float64       \n",
      " 13  amount            148301 non-null  float64       \n",
      " 14  gender            148301 non-null  object        \n",
      " 15  age               148301 non-null  int64         \n",
      " 16  became_member_on  148301 non-null  datetime64[ns]\n",
      " 17  income            148301 non-null  float64       \n",
      " 18  age_groups        148301 non-null  category      \n",
      "dtypes: category(1), datetime64[ns](1), float64(3), int64(9), object(5)\n",
      "memory usage: 21.6+ MB\n"
     ]
    }
   ],
   "source": [
    "df.info()"
   ]
  },
  {
   "cell_type": "code",
   "execution_count": 59,
   "metadata": {},
   "outputs": [
    {
     "data": {
      "text/html": [
       "<div>\n",
       "<style scoped>\n",
       "    .dataframe tbody tr th:only-of-type {\n",
       "        vertical-align: middle;\n",
       "    }\n",
       "\n",
       "    .dataframe tbody tr th {\n",
       "        vertical-align: top;\n",
       "    }\n",
       "\n",
       "    .dataframe thead th {\n",
       "        text-align: right;\n",
       "    }\n",
       "</style>\n",
       "<table border=\"1\" class=\"dataframe\">\n",
       "  <thead>\n",
       "    <tr style=\"text-align: right;\">\n",
       "      <th></th>\n",
       "      <th>reward</th>\n",
       "      <th>difficulty</th>\n",
       "      <th>duration</th>\n",
       "      <th>offer_type</th>\n",
       "      <th>offer_id</th>\n",
       "      <th>social</th>\n",
       "      <th>web</th>\n",
       "      <th>email</th>\n",
       "      <th>mobile</th>\n",
       "      <th>customer_id</th>\n",
       "      <th>event</th>\n",
       "      <th>time</th>\n",
       "      <th>offer_reward</th>\n",
       "      <th>amount</th>\n",
       "      <th>gender</th>\n",
       "      <th>age</th>\n",
       "      <th>became_member_on</th>\n",
       "      <th>income</th>\n",
       "      <th>age_groups</th>\n",
       "    </tr>\n",
       "  </thead>\n",
       "  <tbody>\n",
       "    <tr>\n",
       "      <th>0</th>\n",
       "      <td>10</td>\n",
       "      <td>10</td>\n",
       "      <td>7</td>\n",
       "      <td>bogo</td>\n",
       "      <td>ae264e3637204a6fb9bb56bc8210ddfd</td>\n",
       "      <td>1</td>\n",
       "      <td>0</td>\n",
       "      <td>1</td>\n",
       "      <td>1</td>\n",
       "      <td>4b0da7e80e5945209a1fdddfe813dbe0</td>\n",
       "      <td>offer received</td>\n",
       "      <td>0</td>\n",
       "      <td>0.0</td>\n",
       "      <td>0.0</td>\n",
       "      <td>M</td>\n",
       "      <td>64</td>\n",
       "      <td>1970-01-01 00:00:00.020170909</td>\n",
       "      <td>100000.0</td>\n",
       "      <td>adult</td>\n",
       "    </tr>\n",
       "    <tr>\n",
       "      <th>1</th>\n",
       "      <td>10</td>\n",
       "      <td>10</td>\n",
       "      <td>7</td>\n",
       "      <td>bogo</td>\n",
       "      <td>ae264e3637204a6fb9bb56bc8210ddfd</td>\n",
       "      <td>1</td>\n",
       "      <td>0</td>\n",
       "      <td>1</td>\n",
       "      <td>1</td>\n",
       "      <td>4b0da7e80e5945209a1fdddfe813dbe0</td>\n",
       "      <td>offer viewed</td>\n",
       "      <td>102</td>\n",
       "      <td>0.0</td>\n",
       "      <td>0.0</td>\n",
       "      <td>M</td>\n",
       "      <td>64</td>\n",
       "      <td>1970-01-01 00:00:00.020170909</td>\n",
       "      <td>100000.0</td>\n",
       "      <td>adult</td>\n",
       "    </tr>\n",
       "    <tr>\n",
       "      <th>2</th>\n",
       "      <td>10</td>\n",
       "      <td>10</td>\n",
       "      <td>7</td>\n",
       "      <td>bogo</td>\n",
       "      <td>ae264e3637204a6fb9bb56bc8210ddfd</td>\n",
       "      <td>1</td>\n",
       "      <td>0</td>\n",
       "      <td>1</td>\n",
       "      <td>1</td>\n",
       "      <td>4b0da7e80e5945209a1fdddfe813dbe0</td>\n",
       "      <td>offer received</td>\n",
       "      <td>504</td>\n",
       "      <td>0.0</td>\n",
       "      <td>0.0</td>\n",
       "      <td>M</td>\n",
       "      <td>64</td>\n",
       "      <td>1970-01-01 00:00:00.020170909</td>\n",
       "      <td>100000.0</td>\n",
       "      <td>adult</td>\n",
       "    </tr>\n",
       "    <tr>\n",
       "      <th>3</th>\n",
       "      <td>10</td>\n",
       "      <td>10</td>\n",
       "      <td>7</td>\n",
       "      <td>bogo</td>\n",
       "      <td>ae264e3637204a6fb9bb56bc8210ddfd</td>\n",
       "      <td>1</td>\n",
       "      <td>0</td>\n",
       "      <td>1</td>\n",
       "      <td>1</td>\n",
       "      <td>4b0da7e80e5945209a1fdddfe813dbe0</td>\n",
       "      <td>offer viewed</td>\n",
       "      <td>510</td>\n",
       "      <td>0.0</td>\n",
       "      <td>0.0</td>\n",
       "      <td>M</td>\n",
       "      <td>64</td>\n",
       "      <td>1970-01-01 00:00:00.020170909</td>\n",
       "      <td>100000.0</td>\n",
       "      <td>adult</td>\n",
       "    </tr>\n",
       "    <tr>\n",
       "      <th>4</th>\n",
       "      <td>10</td>\n",
       "      <td>10</td>\n",
       "      <td>7</td>\n",
       "      <td>bogo</td>\n",
       "      <td>ae264e3637204a6fb9bb56bc8210ddfd</td>\n",
       "      <td>1</td>\n",
       "      <td>0</td>\n",
       "      <td>1</td>\n",
       "      <td>1</td>\n",
       "      <td>4b0da7e80e5945209a1fdddfe813dbe0</td>\n",
       "      <td>offer completed</td>\n",
       "      <td>510</td>\n",
       "      <td>10.0</td>\n",
       "      <td>0.0</td>\n",
       "      <td>M</td>\n",
       "      <td>64</td>\n",
       "      <td>1970-01-01 00:00:00.020170909</td>\n",
       "      <td>100000.0</td>\n",
       "      <td>adult</td>\n",
       "    </tr>\n",
       "  </tbody>\n",
       "</table>\n",
       "</div>"
      ],
      "text/plain": [
       "   reward  difficulty  duration offer_type                          offer_id  \\\n",
       "0      10          10         7       bogo  ae264e3637204a6fb9bb56bc8210ddfd   \n",
       "1      10          10         7       bogo  ae264e3637204a6fb9bb56bc8210ddfd   \n",
       "2      10          10         7       bogo  ae264e3637204a6fb9bb56bc8210ddfd   \n",
       "3      10          10         7       bogo  ae264e3637204a6fb9bb56bc8210ddfd   \n",
       "4      10          10         7       bogo  ae264e3637204a6fb9bb56bc8210ddfd   \n",
       "\n",
       "   social  web  email  mobile                       customer_id  \\\n",
       "0       1    0      1       1  4b0da7e80e5945209a1fdddfe813dbe0   \n",
       "1       1    0      1       1  4b0da7e80e5945209a1fdddfe813dbe0   \n",
       "2       1    0      1       1  4b0da7e80e5945209a1fdddfe813dbe0   \n",
       "3       1    0      1       1  4b0da7e80e5945209a1fdddfe813dbe0   \n",
       "4       1    0      1       1  4b0da7e80e5945209a1fdddfe813dbe0   \n",
       "\n",
       "             event  time  offer_reward  amount gender  age  \\\n",
       "0   offer received     0           0.0     0.0      M   64   \n",
       "1     offer viewed   102           0.0     0.0      M   64   \n",
       "2   offer received   504           0.0     0.0      M   64   \n",
       "3     offer viewed   510           0.0     0.0      M   64   \n",
       "4  offer completed   510          10.0     0.0      M   64   \n",
       "\n",
       "               became_member_on    income age_groups  \n",
       "0 1970-01-01 00:00:00.020170909  100000.0      adult  \n",
       "1 1970-01-01 00:00:00.020170909  100000.0      adult  \n",
       "2 1970-01-01 00:00:00.020170909  100000.0      adult  \n",
       "3 1970-01-01 00:00:00.020170909  100000.0      adult  \n",
       "4 1970-01-01 00:00:00.020170909  100000.0      adult  "
      ]
     },
     "execution_count": 59,
     "metadata": {},
     "output_type": "execute_result"
    }
   ],
   "source": [
    "df.head()"
   ]
  },
  {
   "cell_type": "markdown",
   "metadata": {},
   "source": [
    "## Data visualization"
   ]
  },
  {
   "cell_type": "code",
   "execution_count": 60,
   "metadata": {},
   "outputs": [],
   "source": [
    "base_color = sb.color_palette()[0]"
   ]
  },
  {
   "cell_type": "code",
   "execution_count": 61,
   "metadata": {},
   "outputs": [
    {
     "data": {
      "text/plain": [
       "<matplotlib.legend.Legend at 0x150dfe1fd48>"
      ]
     },
     "execution_count": 61,
     "metadata": {},
     "output_type": "execute_result"
    },
    {
     "data": {
      "image/png": "[encoded data removed]",
      "text/plain": [
       "<Figure size 1080x360 with 1 Axes>"
      ]
     },
     "metadata": {
      "needs_background": "light"
     },
     "output_type": "display_data"
    }
   ],
   "source": [
    "#Compare between age groups and genders\n",
    "plt.rcParams['figure.figsize'] = 15, 5\n",
    "sb.countplot(x= \"age_groups\", hue= \"gender\", data=df, color= base_color)\n",
    "plt.title('The relation between gender and age')\n",
    "plt.ylabel('Count')\n",
    "plt.xlabel('Age Group')\n",
    "plt.legend(title='Gender')"
   ]
  },
  {
   "cell_type": "code",
   "execution_count": 62,
   "metadata": {},
   "outputs": [
    {
     "data": {
      "text/plain": [
       "<matplotlib.legend.Legend at 0x150dfde1988>"
      ]
     },
     "execution_count": 62,
     "metadata": {},
     "output_type": "execute_result"
    },
    {
     "data": {
      "image/png": "[encoded data removed]",
      "text/plain": [
       "<Figure size 1080x360 with 1 Axes>"
      ]
     },
     "metadata": {
      "needs_background": "light"
     },
     "output_type": "display_data"
    }
   ],
   "source": [
    "#compare between gender and events\n",
    "sb.countplot(x= \"event\", hue= \"gender\", data=df,color= base_color)\n",
    "plt.rcParams['figure.figsize'] = 15, 5\n",
    "plt.title('The relation between gender and event')\n",
    "plt.ylabel('Count')\n",
    "plt.xlabel('Event')\n",
    "plt.legend(title='Gender')"
   ]
  },
  {
   "cell_type": "code",
   "execution_count": 63,
   "metadata": {},
   "outputs": [
    {
     "data": {
      "image/png": "[encoded data removed]",
      "text/plain": [
       "<Figure size 1080x360 with 1 Axes>"
      ]
     },
     "metadata": {},
     "output_type": "display_data"
    }
   ],
   "source": [
    "#What is the most resposive group of ages\n",
    "fig1, ax1 = plt.subplots()\n",
    "plt.rcParams['figure.figsize'] = 10 , 10\n",
    "\n",
    "ax1.pie(df.age_groups.value_counts(), autopct='%1.1f%%',\n",
    "         startangle=90)\n",
    "ax1.axis('equal')  # Equal aspect ratio ensures that pie is drawn as a circle.\n",
    "\n",
    "plt.show()"
   ]
  },
  {
   "cell_type": "markdown",
   "metadata": {},
   "source": [
    "**From Here we see that the most common gender is male and the most common age group is adults because of their work i suppose and the most common event is offer recieved.**"
   ]
  },
  {
   "cell_type": "code",
   "execution_count": 64,
   "metadata": {},
   "outputs": [
    {
     "data": {
      "text/plain": [
       "<matplotlib.legend.Legend at 0x150dfcbedc8>"
      ]
     },
     "execution_count": 64,
     "metadata": {},
     "output_type": "execute_result"
    },
    {
     "data": {
      "image/png": "[encoded data removed]",
      "text/plain": [
       "<Figure size 1080x360 with 1 Axes>"
      ]
     },
     "metadata": {
      "needs_background": "light"
     },
     "output_type": "display_data"
    }
   ],
   "source": [
    "plt.rcParams['figure.figsize'] = 15, 5\n",
    "sb.countplot(x= \"duration\", hue= \"event\", data=df,color= base_color)\n",
    "plt.title('the relationship between event and duration')\n",
    "plt.ylabel('Count')\n",
    "plt.xlabel('Duration')\n",
    "plt.legend(title='Event')"
   ]
  },
  {
   "cell_type": "code",
   "execution_count": 65,
   "metadata": {},
   "outputs": [
    {
     "data": {
      "image/png": "[encoded data removed]",
      "text/plain": [
       "<Figure size 1080x360 with 1 Axes>"
      ]
     },
     "metadata": {},
     "output_type": "display_data"
    }
   ],
   "source": [
    "#The most popular event\n",
    "labels = 'Offer Received', 'Offer Viewed', 'offer Completed'\n",
    "\n",
    "fig1, ax1 = plt.subplots()\n",
    "plt.rcParams['figure.figsize'] = 10 , 10\n",
    "ax1.pie(df.event.value_counts(), labels=labels, autopct='%1.1f%%',\n",
    "         startangle=90)\n",
    "ax1.axis('equal')  # Equal aspect ratio ensures that pie is drawn as a circle.\n",
    "\n",
    "plt.show()"
   ]
  },
  {
   "cell_type": "code",
   "execution_count": 66,
   "metadata": {},
   "outputs": [
    {
     "data": {
      "text/plain": [
       "<matplotlib.legend.Legend at 0x150dfbed748>"
      ]
     },
     "execution_count": 66,
     "metadata": {},
     "output_type": "execute_result"
    },
    {
     "data": {
      "image/png": "[encoded data removed]",
      "text/plain": [
       "<Figure size 1080x360 with 1 Axes>"
      ]
     },
     "metadata": {
      "needs_background": "light"
     },
     "output_type": "display_data"
    }
   ],
   "source": [
    "#Compare between event and offer_type\n",
    "plt.rcParams['figure.figsize'] = 15, 5\n",
    "sb.countplot(x= \"event\", hue= \"offer_type\", data=df,color= base_color)\n",
    "plt.title('the relationship between offer_type and event')\n",
    "plt.ylabel('Count')\n",
    "plt.xlabel('Event')\n",
    "plt.legend(title='Offer Type')"
   ]
  },
  {
   "cell_type": "code",
   "execution_count": 67,
   "metadata": {},
   "outputs": [
    {
     "data": {
      "text/plain": [
       "<matplotlib.legend.Legend at 0x150dfb86108>"
      ]
     },
     "execution_count": 67,
     "metadata": {},
     "output_type": "execute_result"
    },
    {
     "data": {
      "image/png": "[encoded data removed]",
      "text/plain": [
       "<Figure size 1080x360 with 1 Axes>"
      ]
     },
     "metadata": {
      "needs_background": "light"
     },
     "output_type": "display_data"
    }
   ],
   "source": [
    "#Compare between offer_type and duration\n",
    "plt.rcParams['figure.figsize'] = 15, 5\n",
    "sb.countplot(x= \"offer_type\", hue= \"duration\", data=df,color= base_color)\n",
    "plt.title('the relationship between offer type and duration')\n",
    "plt.ylabel('Count')\n",
    "plt.xlabel('Offer Type')\n",
    "plt.legend(title='Gender')"
   ]
  },
  {
   "cell_type": "code",
   "execution_count": 68,
   "metadata": {},
   "outputs": [
    {
     "data": {
      "image/png": "[encoded data removed]",
      "text/plain": [
       "<Figure size 1080x360 with 1 Axes>"
      ]
     },
     "metadata": {},
     "output_type": "display_data"
    }
   ],
   "source": [
    "#The most popular offer type\n",
    "labels = 'BOGO', 'Discount', 'Informational'\n",
    "\n",
    "fig1, ax1 = plt.subplots()\n",
    "plt.rcParams['figure.figsize'] = 10 , 10\n",
    "ax1.pie(df.offer_type.value_counts(), labels=labels, autopct='%1.1f%%',\n",
    "         startangle=90)\n",
    "ax1.axis('equal')  # Equal aspect ratio ensures that pie is drawn as a circle.\n",
    "\n",
    "plt.show()"
   ]
  },
  {
   "cell_type": "code",
   "execution_count": 69,
   "metadata": {},
   "outputs": [
    {
     "data": {
      "text/plain": [
       "<matplotlib.legend.Legend at 0x150dfa32948>"
      ]
     },
     "execution_count": 69,
     "metadata": {},
     "output_type": "execute_result"
    },
    {
     "data": {
      "image/png": "[encoded data removed]",
      "text/plain": [
       "<Figure size 1080x360 with 1 Axes>"
      ]
     },
     "metadata": {
      "needs_background": "light"
     },
     "output_type": "display_data"
    }
   ],
   "source": [
    "#Age groups and offer type\n",
    "plt.rcParams['figure.figsize'] = 15, 5\n",
    "sb.countplot(x= \"age_groups\", hue= \"offer_type\", data=df,color= base_color)\n",
    "plt.title('The relatioship between Age groups and offer type')\n",
    "plt.ylabel('Count')\n",
    "plt.xlabel('Age Group')\n",
    "plt.legend(title='Offer Type')"
   ]
  },
  {
   "cell_type": "code",
   "execution_count": 70,
   "metadata": {},
   "outputs": [
    {
     "data": {
      "text/plain": [
       "66380.0783541581"
      ]
     },
     "execution_count": 70,
     "metadata": {},
     "output_type": "execute_result"
    }
   ],
   "source": [
    "#Getting the mean of income\n",
    "df['income'].mean()"
   ]
  },
  {
   "cell_type": "code",
   "execution_count": 71,
   "metadata": {},
   "outputs": [
    {
     "data": {
      "image/png": "[encoded data removed]",
      "text/plain": [
       "<Figure size 1080x360 with 1 Axes>"
      ]
     },
     "metadata": {
      "needs_background": "light"
     },
     "output_type": "display_data"
    }
   ],
   "source": [
    "sb.distplot(df['income'], bins=50, hist_kws={'alpha': 0.4});"
   ]
  },
  {
   "cell_type": "code",
   "execution_count": 72,
   "metadata": {},
   "outputs": [
    {
     "data": {
      "text/plain": [
       "54.63133761741324"
      ]
     },
     "execution_count": 72,
     "metadata": {},
     "output_type": "execute_result"
    }
   ],
   "source": [
    "#Getting the mean age\n",
    "df['age'].mean()"
   ]
  },
  {
   "cell_type": "code",
   "execution_count": 73,
   "metadata": {},
   "outputs": [
    {
     "data": {
      "image/png": "[encoded data removed]",
      "text/plain": [
       "<Figure size 1080x360 with 1 Axes>"
      ]
     },
     "metadata": {
      "needs_background": "light"
     },
     "output_type": "display_data"
    }
   ],
   "source": [
    "sb.distplot(df['age'], bins=50, hist_kws={'alpha': 0.4});"
   ]
  },
  {
   "cell_type": "markdown",
   "metadata": {},
   "source": [
    "Most of the customer are between 45 and 65, Most peaple use BOGO and dicount offer type equaly. The number of people review the offer are much more than thos who comlete it."
   ]
  },
  {
   "cell_type": "markdown",
   "metadata": {},
   "source": [
    "## Data preperation"
   ]
  },
  {
   "cell_type": "code",
   "execution_count": 74,
   "metadata": {},
   "outputs": [],
   "source": [
    "df_prep = df.copy()"
   ]
  },
  {
   "cell_type": "code",
   "execution_count": 75,
   "metadata": {},
   "outputs": [
    {
     "name": "stdout",
     "output_type": "stream",
     "text": [
      "<class 'pandas.core.frame.DataFrame'>\n",
      "Int64Index: 148301 entries, 0 to 148300\n",
      "Data columns (total 19 columns):\n",
      " #   Column            Non-Null Count   Dtype         \n",
      "---  ------            --------------   -----         \n",
      " 0   reward            148301 non-null  int64         \n",
      " 1   difficulty        148301 non-null  int64         \n",
      " 2   duration          148301 non-null  int64         \n",
      " 3   offer_type        148301 non-null  object        \n",
      " 4   offer_id          148301 non-null  object        \n",
      " 5   social            148301 non-null  int64         \n",
      " 6   web               148301 non-null  int64         \n",
      " 7   email             148301 non-null  int64         \n",
      " 8   mobile            148301 non-null  int64         \n",
      " 9   customer_id       148301 non-null  object        \n",
      " 10  event             148301 non-null  object        \n",
      " 11  time              148301 non-null  int64         \n",
      " 12  offer_reward      148301 non-null  float64       \n",
      " 13  amount            148301 non-null  float64       \n",
      " 14  gender            148301 non-null  object        \n",
      " 15  age               148301 non-null  int64         \n",
      " 16  became_member_on  148301 non-null  datetime64[ns]\n",
      " 17  income            148301 non-null  float64       \n",
      " 18  age_groups        148301 non-null  category      \n",
      "dtypes: category(1), datetime64[ns](1), float64(3), int64(9), object(5)\n",
      "memory usage: 21.6+ MB\n"
     ]
    }
   ],
   "source": [
    "df_prep.info()"
   ]
  },
  {
   "cell_type": "code",
   "execution_count": 76,
   "metadata": {},
   "outputs": [],
   "source": [
    "categorical = ['offer_type', 'gender', 'age_groups']\n",
    "df_prep = pd.get_dummies(df_prep, columns = categorical)"
   ]
  },
  {
   "cell_type": "code",
   "execution_count": 77,
   "metadata": {},
   "outputs": [
    {
     "name": "stdout",
     "output_type": "stream",
     "text": [
      "<class 'pandas.core.frame.DataFrame'>\n",
      "Int64Index: 148301 entries, 0 to 148300\n",
      "Data columns (total 27 columns):\n",
      " #   Column                    Non-Null Count   Dtype         \n",
      "---  ------                    --------------   -----         \n",
      " 0   reward                    148301 non-null  int64         \n",
      " 1   difficulty                148301 non-null  int64         \n",
      " 2   duration                  148301 non-null  int64         \n",
      " 3   offer_id                  148301 non-null  object        \n",
      " 4   social                    148301 non-null  int64         \n",
      " 5   web                       148301 non-null  int64         \n",
      " 6   email                     148301 non-null  int64         \n",
      " 7   mobile                    148301 non-null  int64         \n",
      " 8   customer_id               148301 non-null  object        \n",
      " 9   event                     148301 non-null  object        \n",
      " 10  time                      148301 non-null  int64         \n",
      " 11  offer_reward              148301 non-null  float64       \n",
      " 12  amount                    148301 non-null  float64       \n",
      " 13  age                       148301 non-null  int64         \n",
      " 14  became_member_on          148301 non-null  datetime64[ns]\n",
      " 15  income                    148301 non-null  float64       \n",
      " 16  offer_type_bogo           148301 non-null  uint8         \n",
      " 17  offer_type_discount       148301 non-null  uint8         \n",
      " 18  offer_type_informational  148301 non-null  uint8         \n",
      " 19  gender_F                  148301 non-null  uint8         \n",
      " 20  gender_M                  148301 non-null  uint8         \n",
      " 21  gender_O                  148301 non-null  uint8         \n",
      " 22  age_groups_child          148301 non-null  uint8         \n",
      " 23  age_groups_teen           148301 non-null  uint8         \n",
      " 24  age_groups_young_adult    148301 non-null  uint8         \n",
      " 25  age_groups_adult          148301 non-null  uint8         \n",
      " 26  age_groups_old_man        148301 non-null  uint8         \n",
      "dtypes: datetime64[ns](1), float64(3), int64(9), object(3), uint8(11)\n",
      "memory usage: 20.8+ MB\n"
     ]
    }
   ],
   "source": [
    "df_prep.info()"
   ]
  },
  {
   "cell_type": "code",
   "execution_count": 78,
   "metadata": {},
   "outputs": [],
   "source": [
    "from sklearn.preprocessing import MinMaxScaler\n",
    "\n",
    "\n",
    "#change became_member_on column\n",
    "df_prep['month_member'] = df_prep['became_member_on'].apply(lambda x: x.day)\n",
    "df_prep['year_member'] = df_prep['became_member_on'].apply(lambda x: x.year)\n",
    "#drop became_member_on column\n",
    "df_prep.drop('became_member_on',axis=1, inplace=True)    \n",
    "    \n",
    "#process offer_id column\n",
    "offer_id = df_prep['offer_id'].unique().tolist()\n",
    "offer_mapping = dict( zip(offer_id,range(len(offer_id))) )\n",
    "df_prep.replace({'offer_id': offer_mapping},inplace=True)\n",
    "\n",
    "#process customer_id column\n",
    "customer_id = df_prep['customer_id'].unique().tolist()\n",
    "customer_mapping = dict( zip(customer_id,range(len(customer_id))) )\n",
    "df_prep.replace({'customer_id': customer_mapping},inplace=True)\n",
    "    \n",
    "#process numerical variables\n",
    "#initialize a MinMaxScaler and apply it to the features\n",
    "scaler = MinMaxScaler() # default=(0, 1)\n",
    "number = ['income', 'difficulty', 'duration', 'offer_reward', 'time', 'reward', 'amount']\n",
    "df_prep[number] = scaler.fit_transform(df_prep[number])\n",
    "    \n",
    " #encode 'event' data to numerical values according to task 2\n",
    "df_prep['event'] = df_prep['event'].map({'offer received':1, 'offer viewed':2, 'offer completed':3})    "
   ]
  },
  {
   "cell_type": "code",
   "execution_count": 79,
   "metadata": {},
   "outputs": [],
   "source": [
    "dset = df_prep.drop('event', axis=1)\n",
    "labels = df_prep['event']"
   ]
  },
  {
   "cell_type": "markdown",
   "metadata": {},
   "source": [
    "## Training and Testing"
   ]
  },
  {
   "cell_type": "code",
   "execution_count": 80,
   "metadata": {},
   "outputs": [],
   "source": [
    "from sklearn.model_selection import train_test_split\n",
    "from sklearn.ensemble import RandomForestClassifier\n",
    "from sklearn.neighbors import KNeighborsClassifier\n",
    "from sklearn.metrics import fbeta_score, accuracy_score\n",
    "from sklearn.metrics import confusion_matrix\n",
    "from sklearn.metrics import confusion_matrix, classification_report\n",
    "from sklearn.tree import DecisionTreeClassifier"
   ]
  },
  {
   "cell_type": "code",
   "execution_count": 81,
   "metadata": {},
   "outputs": [],
   "source": [
    "#Split the data into train test and validation\n",
    "train_X, test_X, train_y, test_y = train_test_split(dset,labels, \n",
    "                                                        test_size=0.20, \n",
    "                                                        random_state=42)\n",
    "\n",
    "# Then we split the training set further into 2/3 training and 1/3 validation sets.\n",
    "train_X, val_X, train_y, val_y = train_test_split(train_X, train_y, test_size=0.33)"
   ]
  },
  {
   "cell_type": "code",
   "execution_count": 82,
   "metadata": {},
   "outputs": [
    {
     "name": "stdout",
     "output_type": "stream",
     "text": [
      "<class 'pandas.core.frame.DataFrame'>\n",
      "Int64Index: 79488 entries, 99742 to 7675\n",
      "Data columns (total 27 columns):\n",
      " #   Column                    Non-Null Count  Dtype  \n",
      "---  ------                    --------------  -----  \n",
      " 0   reward                    79488 non-null  float64\n",
      " 1   difficulty                79488 non-null  float64\n",
      " 2   duration                  79488 non-null  float64\n",
      " 3   offer_id                  79488 non-null  int64  \n",
      " 4   social                    79488 non-null  int64  \n",
      " 5   web                       79488 non-null  int64  \n",
      " 6   email                     79488 non-null  int64  \n",
      " 7   mobile                    79488 non-null  int64  \n",
      " 8   customer_id               79488 non-null  int64  \n",
      " 9   time                      79488 non-null  float64\n",
      " 10  offer_reward              79488 non-null  float64\n",
      " 11  amount                    79488 non-null  float64\n",
      " 12  age                       79488 non-null  int64  \n",
      " 13  income                    79488 non-null  float64\n",
      " 14  offer_type_bogo           79488 non-null  uint8  \n",
      " 15  offer_type_discount       79488 non-null  uint8  \n",
      " 16  offer_type_informational  79488 non-null  uint8  \n",
      " 17  gender_F                  79488 non-null  uint8  \n",
      " 18  gender_M                  79488 non-null  uint8  \n",
      " 19  gender_O                  79488 non-null  uint8  \n",
      " 20  age_groups_child          79488 non-null  uint8  \n",
      " 21  age_groups_teen           79488 non-null  uint8  \n",
      " 22  age_groups_young_adult    79488 non-null  uint8  \n",
      " 23  age_groups_adult          79488 non-null  uint8  \n",
      " 24  age_groups_old_man        79488 non-null  uint8  \n",
      " 25  month_member              79488 non-null  int64  \n",
      " 26  year_member               79488 non-null  int64  \n",
      "dtypes: float64(7), int64(9), uint8(11)\n",
      "memory usage: 11.1 MB\n"
     ]
    }
   ],
   "source": [
    "train_X.info()"
   ]
  },
  {
   "cell_type": "code",
   "execution_count": 83,
   "metadata": {},
   "outputs": [],
   "source": [
    "def train_val_test(df):\n",
    "    \"\"\"\n",
    "    Return train, val and test F1 score and the model name\n",
    "    df: estimator instance\n",
    "    \n",
    "    Returns\n",
    "    --------\n",
    "    f1_train: train data F1 score\n",
    "    f1_val: vallidation data F1 score\n",
    "    f1_test: test data F1 score\n",
    "    name: model name\n",
    "       \n",
    "    \"\"\"\n",
    "    train_pred =  (df.fit(train_X, train_y)).predict(train_X)\n",
    "    val_pred = (df.fit(val_X, val_y)).predict(val_X)\n",
    "    test_pred = (df.fit(train_X, train_y)).predict(test_X)\n",
    "    f1_train =  accuracy_score(train_y, train_pred)*100\n",
    "    f1_val= accuracy_score(val_y, val_pred)*100\n",
    "    f1_test= fbeta_score(test_y, test_pred, beta = 0.5, average='micro' )*100\n",
    "    name = df.__class__.__name__\n",
    "    \n",
    "    return f1_train, f1_val, f1_test, name"
   ]
  },
  {
   "cell_type": "markdown",
   "metadata": {},
   "source": [
    "#### Decision Tree"
   ]
  },
  {
   "cell_type": "code",
   "execution_count": 84,
   "metadata": {},
   "outputs": [],
   "source": [
    "tree = DecisionTreeClassifier()\n",
    "tree.fit(train_X, train_y)\n",
    "predd = tree.predict(test_X)"
   ]
  },
  {
   "cell_type": "code",
   "execution_count": 85,
   "metadata": {},
   "outputs": [
    {
     "data": {
      "text/plain": [
       "'              precision    recall  f1-score   support\\n\\n           1       0.85      0.84      0.84     13247\\n           2       0.79      0.80      0.79      9949\\n           3       1.00      1.00      1.00      6465\\n\\n    accuracy                           0.86     29661\\n   macro avg       0.88      0.88      0.88     29661\\nweighted avg       0.86      0.86      0.86     29661\\n'"
      ]
     },
     "execution_count": 85,
     "metadata": {},
     "output_type": "execute_result"
    }
   ],
   "source": [
    "classification_report_tree = classification_report(test_y, np.around(predd))\n",
    "classification_report_tree"
   ]
  },
  {
   "cell_type": "code",
   "execution_count": 86,
   "metadata": {},
   "outputs": [],
   "source": [
    "f1_train_tree, f1_val_tree, f1_test_tree, name = train_val_test(tree)"
   ]
  },
  {
   "cell_type": "markdown",
   "metadata": {},
   "source": [
    "### Logistic Regression"
   ]
  },
  {
   "cell_type": "code",
   "execution_count": 87,
   "metadata": {},
   "outputs": [
    {
     "name": "stderr",
     "output_type": "stream",
     "text": [
      "C:\\Users\\omar_\\Anaconda3\\lib\\site-packages\\sklearn\\linear_model\\_logistic.py:940: ConvergenceWarning: lbfgs failed to converge (status=1):\n",
      "STOP: TOTAL NO. of ITERATIONS REACHED LIMIT.\n",
      "\n",
      "Increase the number of iterations (max_iter) or scale the data as shown in:\n",
      "    https://scikit-learn.org/stable/modules/preprocessing.html\n",
      "Please also refer to the documentation for alternative solver options:\n",
      "    https://scikit-learn.org/stable/modules/linear_model.html#logistic-regression\n",
      "  extra_warning_msg=_LOGISTIC_SOLVER_CONVERGENCE_MSG)\n"
     ]
    }
   ],
   "source": [
    "from sklearn.linear_model import LogisticRegression\n",
    "\n",
    "LogReg = LogisticRegression()\n",
    "LogReg.fit(train_X, train_y)\n",
    "predl = tree.predict(test_X)"
   ]
  },
  {
   "cell_type": "code",
   "execution_count": 88,
   "metadata": {},
   "outputs": [
    {
     "data": {
      "text/plain": [
       "'              precision    recall  f1-score   support\\n\\n           1       0.85      0.84      0.84     13247\\n           2       0.79      0.80      0.79      9949\\n           3       1.00      1.00      1.00      6465\\n\\n    accuracy                           0.86     29661\\n   macro avg       0.88      0.88      0.88     29661\\nweighted avg       0.86      0.86      0.86     29661\\n'"
      ]
     },
     "execution_count": 88,
     "metadata": {},
     "output_type": "execute_result"
    }
   ],
   "source": [
    "classification_report_LogReg = classification_report(test_y, np.around(predl))\n",
    "classification_report_LogReg"
   ]
  },
  {
   "cell_type": "code",
   "execution_count": 89,
   "metadata": {},
   "outputs": [
    {
     "name": "stderr",
     "output_type": "stream",
     "text": [
      "C:\\Users\\omar_\\Anaconda3\\lib\\site-packages\\sklearn\\linear_model\\_logistic.py:940: ConvergenceWarning: lbfgs failed to converge (status=1):\n",
      "STOP: TOTAL NO. of ITERATIONS REACHED LIMIT.\n",
      "\n",
      "Increase the number of iterations (max_iter) or scale the data as shown in:\n",
      "    https://scikit-learn.org/stable/modules/preprocessing.html\n",
      "Please also refer to the documentation for alternative solver options:\n",
      "    https://scikit-learn.org/stable/modules/linear_model.html#logistic-regression\n",
      "  extra_warning_msg=_LOGISTIC_SOLVER_CONVERGENCE_MSG)\n",
      "C:\\Users\\omar_\\Anaconda3\\lib\\site-packages\\sklearn\\linear_model\\_logistic.py:940: ConvergenceWarning: lbfgs failed to converge (status=1):\n",
      "STOP: TOTAL NO. of ITERATIONS REACHED LIMIT.\n",
      "\n",
      "Increase the number of iterations (max_iter) or scale the data as shown in:\n",
      "    https://scikit-learn.org/stable/modules/preprocessing.html\n",
      "Please also refer to the documentation for alternative solver options:\n",
      "    https://scikit-learn.org/stable/modules/linear_model.html#logistic-regression\n",
      "  extra_warning_msg=_LOGISTIC_SOLVER_CONVERGENCE_MSG)\n",
      "C:\\Users\\omar_\\Anaconda3\\lib\\site-packages\\sklearn\\linear_model\\_logistic.py:940: ConvergenceWarning: lbfgs failed to converge (status=1):\n",
      "STOP: TOTAL NO. of ITERATIONS REACHED LIMIT.\n",
      "\n",
      "Increase the number of iterations (max_iter) or scale the data as shown in:\n",
      "    https://scikit-learn.org/stable/modules/preprocessing.html\n",
      "Please also refer to the documentation for alternative solver options:\n",
      "    https://scikit-learn.org/stable/modules/linear_model.html#logistic-regression\n",
      "  extra_warning_msg=_LOGISTIC_SOLVER_CONVERGENCE_MSG)\n"
     ]
    }
   ],
   "source": [
    "f1_train_LogReg, f1_val_LogReg, f1_test_LogReg, name_LogReg = train_val_test(LogReg)"
   ]
  },
  {
   "cell_type": "markdown",
   "metadata": {},
   "source": [
    "### K-Neighbours"
   ]
  },
  {
   "cell_type": "code",
   "execution_count": 90,
   "metadata": {},
   "outputs": [],
   "source": [
    "k_n_n = KNeighborsClassifier()\n",
    "k_n_n.fit(train_X, train_y)\n",
    "predk = k_n_n.predict(test_X)"
   ]
  },
  {
   "cell_type": "code",
   "execution_count": 91,
   "metadata": {},
   "outputs": [
    {
     "data": {
      "text/plain": [
       "'              precision    recall  f1-score   support\\n\\n           1       0.39      0.60      0.47     13247\\n           2       0.20      0.16      0.18      9949\\n           3       0.21      0.04      0.07      6465\\n\\n    accuracy                           0.33     29661\\n   macro avg       0.27      0.27      0.24     29661\\nweighted avg       0.29      0.33      0.29     29661\\n'"
      ]
     },
     "execution_count": 91,
     "metadata": {},
     "output_type": "execute_result"
    }
   ],
   "source": [
    "classification_report_k_n_n= classification_report(test_y, np.around(predk))\n",
    "classification_report_k_n_n"
   ]
  },
  {
   "cell_type": "code",
   "execution_count": 92,
   "metadata": {},
   "outputs": [],
   "source": [
    "f1_train_knn, f1_val_knn, f1_test_knn, name_knn = train_val_test(k_n_n)"
   ]
  },
  {
   "cell_type": "markdown",
   "metadata": {},
   "source": [
    "### Random Forest"
   ]
  },
  {
   "cell_type": "code",
   "execution_count": 93,
   "metadata": {},
   "outputs": [],
   "source": [
    "import math\n",
    "Random = RandomForestClassifier(max_depth=10, random_state=0)\n",
    "Random.fit(train_X, train_y)\n",
    "predr = Random.predict(test_X)"
   ]
  },
  {
   "cell_type": "code",
   "execution_count": 94,
   "metadata": {},
   "outputs": [
    {
     "data": {
      "text/plain": [
       "'              precision    recall  f1-score   support\\n\\n           1       0.66      1.00      0.80     13247\\n           2       0.98      0.33      0.50      9949\\n           3       1.00      1.00      1.00      6465\\n\\n    accuracy                           0.77     29661\\n   macro avg       0.88      0.78      0.76     29661\\nweighted avg       0.84      0.77      0.74     29661\\n'"
      ]
     },
     "execution_count": 94,
     "metadata": {},
     "output_type": "execute_result"
    }
   ],
   "source": [
    "classification_report_Random = classification_report(test_y, np.around(predr))\n",
    "classification_report_Random"
   ]
  },
  {
   "cell_type": "code",
   "execution_count": 95,
   "metadata": {},
   "outputs": [],
   "source": [
    "f1_train_ra, f1_val_ra, f1_test_ra, name_ra = train_val_test(Random)"
   ]
  },
  {
   "cell_type": "markdown",
   "metadata": {},
   "source": [
    "## Conclusion"
   ]
  },
  {
   "cell_type": "code",
   "execution_count": 96,
   "metadata": {},
   "outputs": [],
   "source": [
    "f1_score_dict = {'Classifier': [name, name_knn, name_ra, name_LogReg], \n",
    "          'Train F1 score ':[f1_train_tree, f1_train_knn, f1_train_ra,f1_train_LogReg], \n",
    "          'Validation F1 score ':[f1_val_tree, f1_val_knn, f1_val_ra,f1_val_LogReg], \n",
    "          'Test F1 score': [f1_test_tree , f1_test_knn, f1_test_ra,f1_test_LogReg] }\n",
    "          \n",
    "f1_score_df = pd.DataFrame(f1_score_dict)"
   ]
  },
  {
   "cell_type": "code",
   "execution_count": 97,
   "metadata": {},
   "outputs": [
    {
     "data": {
      "text/html": [
       "<div>\n",
       "<style scoped>\n",
       "    .dataframe tbody tr th:only-of-type {\n",
       "        vertical-align: middle;\n",
       "    }\n",
       "\n",
       "    .dataframe tbody tr th {\n",
       "        vertical-align: top;\n",
       "    }\n",
       "\n",
       "    .dataframe thead th {\n",
       "        text-align: right;\n",
       "    }\n",
       "</style>\n",
       "<table border=\"1\" class=\"dataframe\">\n",
       "  <thead>\n",
       "    <tr style=\"text-align: right;\">\n",
       "      <th></th>\n",
       "      <th>Classifier</th>\n",
       "      <th>Train F1 score</th>\n",
       "      <th>Validation F1 score</th>\n",
       "      <th>Test F1 score</th>\n",
       "    </tr>\n",
       "  </thead>\n",
       "  <tbody>\n",
       "    <tr>\n",
       "      <th>0</th>\n",
       "      <td>DecisionTreeClassifier</td>\n",
       "      <td>96.132750</td>\n",
       "      <td>97.982223</td>\n",
       "      <td>86.079363</td>\n",
       "    </tr>\n",
       "    <tr>\n",
       "      <th>1</th>\n",
       "      <td>KNeighborsClassifier</td>\n",
       "      <td>54.190570</td>\n",
       "      <td>56.875766</td>\n",
       "      <td>33.269276</td>\n",
       "    </tr>\n",
       "    <tr>\n",
       "      <th>2</th>\n",
       "      <td>RandomForestClassifier</td>\n",
       "      <td>77.653231</td>\n",
       "      <td>77.942378</td>\n",
       "      <td>77.397930</td>\n",
       "    </tr>\n",
       "    <tr>\n",
       "      <th>3</th>\n",
       "      <td>LogisticRegression</td>\n",
       "      <td>41.845310</td>\n",
       "      <td>42.771761</td>\n",
       "      <td>41.522538</td>\n",
       "    </tr>\n",
       "  </tbody>\n",
       "</table>\n",
       "</div>"
      ],
      "text/plain": [
       "               Classifier  Train F1 score   Validation F1 score   \\\n",
       "0  DecisionTreeClassifier        96.132750             97.982223   \n",
       "1    KNeighborsClassifier        54.190570             56.875766   \n",
       "2  RandomForestClassifier        77.653231             77.942378   \n",
       "3      LogisticRegression        41.845310             42.771761   \n",
       "\n",
       "   Test F1 score  \n",
       "0      86.079363  \n",
       "1      33.269276  \n",
       "2      77.397930  \n",
       "3      41.522538  "
      ]
     },
     "execution_count": 97,
     "metadata": {},
     "output_type": "execute_result"
    }
   ],
   "source": [
    "f1_score_df"
   ]
  },
  {
   "cell_type": "markdown",
   "metadata": {},
   "source": [
    "**From these results we notice that Decision Tree Classifier is the best classification model for this problem then comes the \tRandom Forest Classifier at second place then logistic regression and knn is the worst classification model. The decision tree classifier has the best f1 score on validation dataset with 98.2 but it decreases on the Test dataset to 86.1 but it still good classification. the random forest classifier got 77.45 on validation dataset but it increases on the Test dataset to 78. logistic regression got 66.8 on validation dataset but it decreases on the Test dataset to 65.93.KNN got 56.69.45 on validation dataset but it decreases on the Test dataset to 33.1 this is the worst classifier. so the scores here a good enough to know if the customer will response to the offer or not.**"
   ]
  },
  {
   "cell_type": "code",
   "execution_count": null,
   "metadata": {},
   "outputs": [],
   "source": []
  }
 ],
 "metadata": {
  "kernelspec": {
   "display_name": "Python 3",
   "language": "python",
   "name": "python3"
  },
  "language_info": {
   "codemirror_mode": {
    "name": "ipython",
    "version": 3
   },
   "file_extension": ".py",
   "mimetype": "text/x-python",
   "name": "python",
   "nbconvert_exporter": "python",
   "pygments_lexer": "ipython3",
   "version": "3.7.6"
  }
 },
 "nbformat": 4,
 "nbformat_minor": 2
}
